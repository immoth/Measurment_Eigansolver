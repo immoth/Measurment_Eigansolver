{
 "cells": [
  {
   "cell_type": "code",
   "execution_count": 1,
   "metadata": {},
   "outputs": [],
   "source": [
    "from qiskit import quantum_info as qi\n",
    "import numpy as np\n",
    "import pandas as pd\n",
    "import scipy.linalg as lng\n",
    "import random as rnd\n",
    "import matplotlib.pyplot as plt\n",
    "pd.options.display.float_format = '{:,.1f}'.format"
   ]
  },
  {
   "cell_type": "code",
   "execution_count": 2,
   "metadata": {},
   "outputs": [],
   "source": [
    "def I0(L):\n",
    "    label = \"\"\n",
    "    for i in range(0,L):\n",
    "        label += \"I\"\n",
    "    return qi.Operator.from_label(label).data\n",
    "\n",
    "def X(l,L):\n",
    "    label = \"\"\n",
    "    for i in range(0,l):\n",
    "        label += \"I\"\n",
    "    label += \"X\"\n",
    "    for i in range(l+1,L):\n",
    "        label += \"I\"\n",
    "    return qi.Operator.from_label(label).data\n",
    "\n",
    "def Y(l,L):\n",
    "    label = \"\"\n",
    "    for i in range(0,l):\n",
    "        label += \"I\"\n",
    "    label += \"Y\"\n",
    "    for i in range(l+1,L):\n",
    "        label += \"I\"\n",
    "    return qi.Operator.from_label(label).data\n",
    "\n",
    "def Z(l,L):\n",
    "    label = \"\"\n",
    "    for i in range(0,l):\n",
    "        label += \"I\"\n",
    "    label += \"Z\"\n",
    "    for i in range(l+1,L):\n",
    "        label += \"I\"\n",
    "    return qi.Operator.from_label(label).data\n",
    "    \n",
    "def gx(l,L):\n",
    "    label = \"\"\n",
    "    for i in range(0,l):\n",
    "        label += \"Z\"\n",
    "    label += \"X\"\n",
    "    for i in range(l+1,L):\n",
    "        label += \"I\"\n",
    "    return qi.Operator.from_label(label).data\n",
    "\n",
    "def gy(l,L):\n",
    "    label = \"\"\n",
    "    for i in range(0,l):\n",
    "        label += \"Z\"\n",
    "    label += \"Y\"\n",
    "    for i in range(l+1,L):\n",
    "        label += \"I\"\n",
    "    return qi.Operator.from_label(label).data\n",
    "\n",
    "def cd(l,L):\n",
    "    return 1/2*(gx(l,L)+1j*gy(l,L))\n",
    "\n",
    "def c(l,L):\n",
    "    return 1/2*(gx(l,L)-1j*gy(l,L))"
   ]
  },
  {
   "cell_type": "code",
   "execution_count": 3,
   "metadata": {},
   "outputs": [],
   "source": [
    "def bkt(psi_a,U,psi_b):\n",
    "    return np.dot(np.conjugate(psi_a),np.dot(U,psi_b))\n",
    "\n",
    "def Mdot(Ol):\n",
    "    m = Ol[0]\n",
    "    for i in range(1,len(Ol)):\n",
    "        m = np.dot(Ol[i],m)\n",
    "    return m"
   ]
  },
  {
   "cell_type": "code",
   "execution_count": 4,
   "metadata": {},
   "outputs": [],
   "source": [
    "mu = 0.3\n",
    "\n",
    "H0 = mu*X(0,1)"
   ]
  },
  {
   "cell_type": "code",
   "execution_count": 5,
   "metadata": {},
   "outputs": [
    {
     "name": "stdout",
     "output_type": "stream",
     "text": [
      "         0        1\n",
      "0 0.0+0.0j 0.3+0.0j\n",
      "1 0.3+0.0j 0.0+0.0j\n",
      "[ 0.3+0.j -0.3+0.j]\n"
     ]
    },
    {
     "data": {
      "text/plain": [
       "array([-0.70710678-0.j,  0.70710678-0.j])"
      ]
     },
     "execution_count": 5,
     "metadata": {},
     "output_type": "execute_result"
    }
   ],
   "source": [
    "print(pd.DataFrame(H0))\n",
    "e0,y0 = lng.eig(H0)\n",
    "psi0 = np.conjugate(np.transpose(y0))\n",
    "print(e0)\n",
    "psi0[1]"
   ]
  },
  {
   "cell_type": "code",
   "execution_count": 6,
   "metadata": {},
   "outputs": [],
   "source": [
    "L0 = int(np.log2(len(H0)))\n",
    "\n",
    "Hb =-1/2*Z(0,L0+2)\n",
    "\n",
    "def Hx(cx):\n",
    "    return cx*(Mdot([X(0,L0+2),X(1,L0+2)])) \n",
    "\n",
    "def HR(w):\n",
    "    w0 = w+1\n",
    "    L = L0+1\n",
    "    return (w0*I0(L)+w0*Z(0,L)+np.kron(I0(1),H0)-np.kron(Z(0,1),H0))/2\n",
    "\n",
    "def H(cx,w):\n",
    "    return Hb + Hx(cx) + np.kron(I0(1),HR(w))\n",
    "    "
   ]
  },
  {
   "cell_type": "markdown",
   "metadata": {},
   "source": [
    "## Using the full exponential"
   ]
  },
  {
   "cell_type": "code",
   "execution_count": 9,
   "metadata": {},
   "outputs": [],
   "source": [
    "def U(cx,w,t):\n",
    "    e,psi_d = lng.eig(H(cx,w))\n",
    "    psi = np.conjugate(np.transpose(psi_d))\n",
    "    eD = np.diag(e)\n",
    "    exp = np.exp(1j*e*t)\n",
    "    expD = np.diag(exp)\n",
    "    return Mdot([psi,expD,psi_d])\n"
   ]
  },
  {
   "cell_type": "code",
   "execution_count": 10,
   "metadata": {},
   "outputs": [],
   "source": [
    "psiA = np.sqrt(0.2)*qi.Statevector.from_label('00-').data ++np.sqrt(0.7)*qi.Statevector.from_label('00+').data\n",
    "psiA = psiA/np.sqrt(bkt(psiA,I0(L0+2),psiA))\n",
    "wl = [wi*0.01-1 for wi in range(0,300)]\n",
    "\n",
    "t = 200.0\n",
    "cx = 0.01\n",
    "Ns = 100\n",
    "pl = []\n",
    "for w in wl:\n",
    "    psiS = psiA\n",
    "    psiS = Mdot([U(cx,w,t),psiS])\n",
    "    pw = bkt(psiS,Z(0,L0+2),psiS)\n",
    "\n",
    "    pl.append(pw)"
   ]
  },
  {
   "cell_type": "code",
   "execution_count": 11,
   "metadata": {},
   "outputs": [
    {
     "name": "stderr",
     "output_type": "stream",
     "text": [
      "C:\\Users\\jsten\\Anaconda3\\envs\\qiskit20_new\\lib\\site-packages\\numpy\\core\\_asarray.py:83: ComplexWarning: Casting complex values to real discards the imaginary part\n",
      "  return array(a, dtype, copy=False, order=order)\n",
      "C:\\Users\\jsten\\Anaconda3\\envs\\qiskit20_new\\lib\\site-packages\\numpy\\core\\_asarray.py:136: ComplexWarning: Casting complex values to real discards the imaginary part\n",
      "  return array(a, dtype, copy=False, order=order, subok=True)\n"
     ]
    },
    {
     "data": {
      "image/png": "[encoded data removed]",
      "text/plain": [
       "<Figure size 432x288 with 1 Axes>"
      ]
     },
     "metadata": {
      "needs_background": "light"
     },
     "output_type": "display_data"
    }
   ],
   "source": [
    "marker = [1 for i in e0]\n",
    "\n",
    "plt.plot(wl,pl)\n",
    "plt.scatter(e0,marker)\n",
    "plt.show()"
   ]
  },
  {
   "cell_type": "markdown",
   "metadata": {},
   "source": [
    "## Using broken up exponential to match the circuit "
   ]
  },
  {
   "cell_type": "markdown",
   "metadata": {},
   "source": [
    "$H = -\\frac{1}{2} Z_0 + \\epsilon_0 I + \\epsilon_0 Z_1 + H_0 - Z_1 H_0 +c_x X_0 X_1$\n",
    "\n",
    "$H_0 = X_2$\n",
    "\n",
    "$H = -\\frac{1}{2} Z_0 + \\frac{1}{2}\\epsilon_0 I + \\frac{1}{2}\\epsilon_0 Z_1 + \\frac{1}{2}X_2 - \\frac{1}{2}Z_1 X_2 +c_x X_0 X_1$\n",
    "\n",
    "$U(dt) = e^{i(-\\frac{1}{2} Z_0 + \\frac{1}{2}\\epsilon_0 I + \\frac{1}{2}\\epsilon_0 Z_1 + \\frac{1}{2}X_2 - \\frac{1}{2}Z_1 X_2 +c_x X_0 X_1)dt} \\approx e^{-i\\frac{1}{2}Z_0 dt}e^{i \\frac{1}{2}\\epsilon_0 dt}e^{i \\frac{1}{2}\\epsilon_0 Z_1 dt}e^{i\\frac{1}{2} X_2 dt}e^{-i\\frac{1}{2} Z_1 X_2 dt}e^{c_x X_0 X_1 dt}$\n",
    "\n",
    "or to second order trotterization\n",
    "\n",
    "$U(2dt) \\approx e^{-i\\frac{1}{2}Z_0 dt}e^{i \\frac{1}{2}\\epsilon_0 dt}e^{i \\frac{1}{2}\\epsilon_0 Z_1 dt}e^{i\\frac{1}{2} X_2 dt}e^{-i\\frac{1}{2} Z_1 X_2 dt}e^{c_x X_0 X_1 dt}   e^{c_x X_0 X_1 dt}e^{-i\\frac{1}{2} Z_1 X_2 dt}e^{i\\frac{1}{2} \\epsilon_0 Z_1 dt}e^{i\\frac{1}{2} X_2 dt}e^{i\\frac{1}{2} \\epsilon_0 dt}e^{-i\\frac{1}{2}Z_0 dt}$"
   ]
  },
  {
   "cell_type": "code",
   "execution_count": 12,
   "metadata": {},
   "outputs": [],
   "source": [
    "def UT(cx,w,dt):\n",
    "    L=L0+2\n",
    "    w0 = w+1\n",
    "    Ua = np.cos(-1/2*dt)*I0(L) + 1j*np.sin(-1/2*dt)*Z(0,L)\n",
    "    Ub = np.cos(1/2*w0*dt)*I0(L) + 1j*np.sin(1/2*w0*dt)*I0(L)\n",
    "    Uc = np.cos(1/2*w0*dt)*I0(L) + 1j*np.sin(1/2*w0*dt)*Z(1,L)\n",
    "    Ud = np.cos(1/2*mu*dt)*I0(L) + 1j*np.sin(1/2*mu*dt)*X(2,L)\n",
    "    Ue = np.cos(-1/2*mu*dt)*I0(L) + 1j*np.sin(-1/2*mu*dt)*Mdot([Z(1,L),X(2,L)])\n",
    "    Uf = np.cos(cx*dt)*I0(L) + 1j*np.sin(cx*dt)*Mdot([X(0,L),X(1,L)])\n",
    "    return Mdot([Ua,Ub,Uc,Ud,Ue,Uf,Uf,Ue,Ud,Uc,Ub,Ua])"
   ]
  },
  {
   "cell_type": "code",
   "execution_count": 13,
   "metadata": {},
   "outputs": [
    {
     "name": "stdout",
     "output_type": "stream",
     "text": [
      "0.019999665841257775\n",
      "2.6416415137854427e-08\n"
     ]
    }
   ],
   "source": [
    "dt = 0.01\n",
    "print(np.amax(np.abs(U(0.1,0.5,dt)-I0(3))))\n",
    "print(np.amax(np.abs(U(0.1,0.5,dt)-UT(0.1,0.5,dt/2))))"
   ]
  },
  {
   "cell_type": "code",
   "execution_count": 14,
   "metadata": {
    "scrolled": true
   },
   "outputs": [
    {
     "name": "stdout",
     "output_type": "stream",
     "text": [
      "-1.0 (0.9681719763498426+0j)\n",
      "-0.98 (0.9675742216938669+0j)\n",
      "-0.96 (0.9663230023396134+0j)\n",
      "-0.94 (0.964281378869546+0j)\n",
      "-0.92 (0.9613847039038999+0j)\n",
      "-0.9 (0.9576573266041293+0j)\n",
      "-0.88 (0.9532211517013736+0j)\n",
      "-0.86 (0.9482941306866637+0j)\n",
      "-0.84 (0.943177576552086+0j)\n",
      "-0.8200000000000001 (0.9382321962046897+0j)\n",
      "-0.8 (0.9338438478389689+0j)\n",
      "-0.78 (0.9303811589953559+0j)\n",
      "-0.76 (0.928148180638233+0j)\n",
      "-0.74 (0.9273360989771168+0j)\n",
      "-0.72 (0.9279785848208931+0j)\n",
      "-0.7 (0.9299155532927694+0j)\n",
      "-0.6799999999999999 (0.9327698846316518+0j)\n",
      "-0.6599999999999999 (0.9359410024126421+0j)\n",
      "-0.64 (0.9386181384663956+0j)\n",
      "-0.62 (0.9398146913596472+0j)\n",
      "-0.6 (0.9384234001719212+0j)\n",
      "-0.5800000000000001 (0.9332902299105647+0j)\n",
      "-0.56 (0.9233030430177158+0j)\n",
      "-0.54 (0.907489467422593+0j)\n",
      "-0.52 (0.8851170180160906+0j)\n",
      "-0.5 (0.855787623128685+0j)\n",
      "-0.48 (0.8195183612295761+0j)\n",
      "-0.45999999999999996 (0.7768004981470942+0j)\n",
      "-0.43999999999999995 (0.7286298576651664+0j)\n",
      "-0.42000000000000004 (0.6765031328644915+0j)\n",
      "-0.4 (0.6223768739110755+0j)\n",
      "-0.38 (0.5685884426028034+0j)\n",
      "-0.36 (0.5177410352187151+0j)\n",
      "-0.33999999999999997 (0.4725577425128164+0j)\n",
      "-0.31999999999999995 (0.4357123217417508+0j)\n",
      "-0.29999999999999993 (0.4096466826454866+0j)\n",
      "-0.28 (0.39638683615584824+0j)\n",
      "-0.26 (0.3973700533162481+0j)\n",
      "-0.24 (0.41329611245121756+0j)\n",
      "-0.21999999999999997 (0.4440147145519665+0j)\n",
      "-0.19999999999999996 (0.4884594267672734+0j)\n",
      "-0.17999999999999994 (0.5446359480348072+0j)\n",
      "-0.16000000000000003 (0.6096692224327849+0j)\n",
      "-0.14 (0.679910156894805+0j)\n",
      "-0.12 (0.7510986787241182+0j)\n",
      "-0.09999999999999998 (0.8185758723696824+0j)\n",
      "-0.07999999999999996 (0.877534251285189+0j)\n",
      "-0.05999999999999994 (0.9232921249810451+0j)\n",
      "-0.040000000000000036 (0.9515757568509795+0j)\n",
      "-0.020000000000000018 (0.958791766722782+0j)\n",
      "0.0 (0.9422721378166042+0j)\n",
      "0.020000000000000018 (0.9004752868312633+0j)\n",
      "0.040000000000000036 (0.8331289100543547+0j)\n",
      "0.06000000000000005 (0.7413036059695755+0j)\n",
      "0.08000000000000007 (0.6274103972011551+0j)\n",
      "0.10000000000000009 (0.4951199690083842+0j)\n",
      "0.1200000000000001 (0.34920639856581814+0j)\n",
      "0.14000000000000012 (0.19532303447961719+0j)\n",
      "0.15999999999999992 (0.0397226635427788+0j)\n",
      "0.17999999999999994 (-0.1110621414643853+0j)\n",
      "0.19999999999999996 (-0.2505598304472304+0j)\n",
      "0.21999999999999997 (-0.37270159999244+0j)\n",
      "0.24 (-0.4721435239029853+0j)\n",
      "0.26 (-0.5445496555888836+0j)\n",
      "0.28 (-0.5868190207871595+0j)\n",
      "0.30000000000000004 (-0.5972428990495211+0j)\n",
      "0.32000000000000006 (-0.575583167762555+0j)\n",
      "0.3400000000000001 (-0.5230674586756039+0j)\n",
      "0.3600000000000001 (-0.4423021173980157+0j)\n",
      "0.3800000000000001 (-0.33710910626361784+0j)\n",
      "0.40000000000000013 (-0.21229770269182754+0j)\n",
      "0.41999999999999993 (-0.07338580294160807+0j)\n",
      "0.43999999999999995 (0.0737114164663375+0j)\n",
      "0.45999999999999996 (0.22300598912316244+0j)\n",
      "0.48 (0.36875487928164824+0j)\n",
      "0.5 (0.5057518977967572+0j)\n",
      "0.52 (0.629576901981505+0j)\n",
      "0.54 (0.7367885609529858+0j)\n",
      "0.56 (0.8250509918162433+0j)\n",
      "0.5800000000000001 (0.8931891334562045+0j)\n",
      "0.6000000000000001 (0.9411724984894664+0j)\n",
      "0.6200000000000001 (0.9700315965879098+0j)\n",
      "0.6400000000000001 (0.9817155363973731+0j)\n",
      "0.6600000000000001 (0.9789028096789192+0j)\n",
      "0.6799999999999999 (0.9647798191223658+0j)\n",
      "0.7 (0.9428031821651981+0j)\n",
      "0.72 (0.9164621605111631+0j)\n",
      "0.74 (0.8890567467512891+0j)\n",
      "0.76 (0.8635050844600207+0j)\n",
      "0.78 (0.8421911767374407+0j)\n",
      "0.8 (0.8268604777062105+0j)\n",
      "0.8200000000000001 (0.8185672277511783+0j)\n",
      "0.8400000000000001 (0.8176735697240582+0j)\n",
      "0.8600000000000001 (0.8238968493949439+0j)\n",
      "0.8800000000000001 (0.836398314009751+0j)\n",
      "0.9000000000000001 (0.8539038899751349+0j)\n",
      "0.9199999999999999 (0.8748459993606464+0j)\n",
      "0.94 (0.8975145532399411+0j)\n",
      "0.96 (0.9202053551437406+0j)\n",
      "0.98 (0.9413551077335137+0j)\n"
     ]
    }
   ],
   "source": [
    "psiA = np.sqrt(0.2)*qi.Statevector.from_label('00-').data ++np.sqrt(0.7)*qi.Statevector.from_label('00+').data\n",
    "psiA = psiA/np.sqrt(bkt(psiA,I0(L0+2),psiA))\n",
    "wl = [wi*0.02-1 for wi in range(0,100)]\n",
    "\n",
    "cx = 0.1\n",
    "t = np.pi/(2*cx)\n",
    "Ns = 100\n",
    "dt = 0.1\n",
    "pl = []\n",
    "for w in wl:\n",
    "    psiS = psiA\n",
    "    for ti in range(0,int(t/dt)):\n",
    "        psiS = Mdot([UT(cx,w,dt/2),psiS])\n",
    "    pw = bkt(psiS,Z(0,L0+2),psiS)\n",
    "    print(w,pw)\n",
    "\n",
    "    pl.append(pw)"
   ]
  },
  {
   "cell_type": "code",
   "execution_count": 15,
   "metadata": {},
   "outputs": [
    {
     "data": {
      "image/png": "[encoded data removed]",
      "text/plain": [
       "<Figure size 432x288 with 1 Axes>"
      ]
     },
     "metadata": {
      "needs_background": "light"
     },
     "output_type": "display_data"
    }
   ],
   "source": [
    "marker = [1 for i in e0]\n",
    "\n",
    "plt.plot(wl,pl)\n",
    "plt.scatter(e0,marker)\n",
    "plt.show()"
   ]
  },
  {
   "cell_type": "markdown",
   "metadata": {},
   "source": [
    "## Using the gate version of the operators in U"
   ]
  },
  {
   "cell_type": "code",
   "execution_count": 16,
   "metadata": {},
   "outputs": [],
   "source": [
    "def Rz(phi,l,L):\n",
    "    return np.cos(phi/2)*I0(L) + 1j*np.sin(phi/2)*Z(l,L)\n",
    "\n",
    "def Rx(phi,l,L):\n",
    "    return np.cos(phi/2)*I0(L) + 1j*np.sin(phi/2)*X(l,L)\n",
    "\n",
    "def Ry(phi,l,L):\n",
    "    return np.cos(phi/2)*I0(L) + 1j*np.sin(phi/2)*Y(l,L)\n",
    "\n",
    "def Cx(l,ll,L):\n",
    "    return 1/2*(I0(L)+Z(l,L)+X(ll,L)-Mdot([Z(l,L),X(ll,L)]))"
   ]
  },
  {
   "cell_type": "code",
   "execution_count": 17,
   "metadata": {},
   "outputs": [],
   "source": [
    "def UG(cx,w,dt):\n",
    "    L=L0+2\n",
    "    w0 = w+1\n",
    "    Ua = Rz(-dt,0,L)\n",
    "    Ub = np.exp(1j*1/2*w0*dt)*I0(L)  #A global phase\n",
    "    Uc = Rz(w0*dt,1,L)\n",
    "    Ud = Rx(mu*dt,2,L)\n",
    "    Ue =  Mdot([Ry(-np.pi/2,1,L),Cx(1,2,3),Rx(-mu*dt,1,3),Cx(1,2,3),Ry(np.pi/2,1,L)])\n",
    "    Uf = Mdot([Cx(0,1,3),Rx(2*cx*dt,0,3),Cx(0,1,3)])\n",
    "\n",
    "    #return Mdot([Ua,Ub,Uc,Ud,Ue,Uf,Uf,Ue,Ud,Uc,Ub,Ua])\n",
    "    return Mdot([Ua,Uc,Ud,Ue,Uf,Uf,Ue,Ud,Uc,Ua])"
   ]
  },
  {
   "cell_type": "code",
   "execution_count": 18,
   "metadata": {},
   "outputs": [],
   "source": [
    "#np.amax(np.abs(UT(cx,w,dt)-UG(cx,w,dt)))"
   ]
  },
  {
   "cell_type": "code",
   "execution_count": 113,
   "metadata": {
    "scrolled": true
   },
   "outputs": [
    {
     "name": "stdout",
     "output_type": "stream",
     "text": [
      "-1.0 (0.9639129507079863+0j)\n",
      "-0.98 (0.954464664713817+0j)\n",
      "-0.96 (0.9432641787417645+0j)\n",
      "-0.94 (0.9308979660548965+0j)\n",
      "-0.92 (0.9181153516324035+0j)\n",
      "-0.9 (0.9057806082897722+0j)\n",
      "-0.88 (0.8948097328556021+0j)\n",
      "-0.86 (0.8860954900409806+0j)\n",
      "-0.84 (0.8804255731382623+0j)\n",
      "-0.8200000000000001 (0.878399711978034+0j)\n",
      "-0.8 (0.8803521627726271+0j)\n",
      "-0.78 (0.8862861678666417+0j)\n",
      "-0.76 (0.8958266325492641+0j)\n",
      "-0.74 (0.9081964228643287+0j)\n",
      "-0.72 (0.9222203726661411+0j)\n",
      "-0.7 (0.9363593677290616+0j)\n",
      "-0.6799999999999999 (0.9487748518771524+0j)\n",
      "-0.6599999999999999 (0.9574219060458852+0j)\n",
      "-0.64 (0.960166837431998+0j)\n",
      "-0.62 (0.9549231439739255+0j)\n",
      "-0.6 (0.9397979493308721+0j)\n",
      "-0.5800000000000001 (0.9132396816835361+0j)\n",
      "-0.56 (0.8741770174170955+0j)\n",
      "-0.54 (0.8221390141879429+0j)\n",
      "-0.52 (0.7573469599988949+0j)\n",
      "-0.5 (0.6807697604627557+0j)\n",
      "-0.48 (0.5941366202557076+0j)\n",
      "-0.45999999999999996 (0.499903243635203+0j)\n",
      "-0.43999999999999995 (0.4011706370658254+0j)\n",
      "-0.42000000000000004 (0.30155866496145844+0j)\n",
      "-0.4 (0.20503958560965796+0j)\n",
      "-0.38 (0.11573966816962539+0j)\n",
      "-0.36 (0.03771945891034775+0j)\n",
      "-0.33999999999999997 (-0.025254858081420917+0j)\n",
      "-0.31999999999999995 (-0.06993542301041494+0j)\n",
      "-0.29999999999999993 (-0.09379810820204448+0j)\n",
      "-0.28 (-0.09521609231567689+0j)\n",
      "-0.26 (-0.07358980113632035+0j)\n",
      "-0.24 (-0.029423705725884763+0j)\n",
      "-0.21999999999999997 (0.03565655727973638+0j)\n",
      "-0.19999999999999996 (0.11894979816001892+0j)\n",
      "-0.17999999999999994 (0.21678690328522057+0j)\n",
      "-0.16000000000000003 (0.32469594298781773+0j)\n",
      "-0.14 (0.4376165956872988+0j)\n",
      "-0.12 (0.5501525386450552+0j)\n",
      "-0.09999999999999998 (0.6568479206891462+0j)\n",
      "-0.07999999999999996 (0.7524723242432221+0j)\n",
      "-0.05999999999999994 (0.8322978654754212+0j)\n",
      "-0.040000000000000036 (0.8923523334527856+0j)\n",
      "-0.020000000000000018 (0.9296335267771618+0j)\n",
      "0.0 (0.9422721378167279+0j)\n",
      "0.020000000000000018 (0.9296335267771025+0j)\n",
      "0.040000000000000036 (0.8923523334528436+0j)\n",
      "0.06000000000000005 (0.8322978654754202+0j)\n",
      "0.08000000000000007 (0.7524723242431977+0j)\n",
      "0.10000000000000009 (0.656847920689146+0j)\n",
      "0.1200000000000001 (0.5501525386450155+0j)\n",
      "0.14000000000000012 (0.4376165956872675+0j)\n",
      "0.15999999999999992 (0.3246959429878138+0j)\n",
      "0.17999999999999994 (0.21678690328522499+0j)\n",
      "0.19999999999999996 (0.11894979816004406+0j)\n",
      "0.21999999999999997 (0.035656557279741014+0j)\n",
      "0.24 (-0.02942370572589259+0j)\n",
      "0.26 (-0.07358980113632949+0j)\n",
      "0.28 (-0.0952160923156833+0j)\n",
      "0.30000000000000004 (-0.0937981082020504+0j)\n",
      "0.32000000000000006 (-0.06993542301041855+0j)\n",
      "0.3400000000000001 (-0.025254858081406317+0j)\n",
      "0.3600000000000001 (0.037719458910332654+0j)\n",
      "0.3800000000000001 (0.1157396681696253+0j)\n",
      "0.40000000000000013 (0.2050395856096738+0j)\n",
      "0.41999999999999993 (0.3015586649614435+0j)\n",
      "0.43999999999999995 (0.4011706370658398+0j)\n",
      "0.45999999999999996 (0.499903243635218+0j)\n",
      "0.48 (0.5941366202557086+0j)\n",
      "0.5 (0.6807697604627575+0j)\n",
      "0.52 (0.7573469599989491+0j)\n",
      "0.54 (0.8221390141879191+0j)\n",
      "0.56 (0.874177017417068+0j)\n",
      "0.5800000000000001 (0.9132396816835059+0j)\n",
      "0.6000000000000001 (0.9397979493308767+0j)\n",
      "0.6200000000000001 (0.9549231439739609+0j)\n",
      "0.6400000000000001 (0.9601668374320366+0j)\n",
      "0.6600000000000001 (0.957421906045886+0j)\n",
      "0.6799999999999999 (0.9487748518771535+0j)\n",
      "0.7 (0.9363593677290614+0j)\n",
      "0.72 (0.9222203726660758+0j)\n",
      "0.74 (0.9081964228642977+0j)\n",
      "0.76 (0.8958266325492654+0j)\n",
      "0.78 (0.8862861678665167+0j)\n",
      "0.8 (0.880352162772688+0j)\n",
      "0.8200000000000001 (0.8783997119780643+0j)\n",
      "0.8400000000000001 (0.880425573138265+0j)\n",
      "0.8600000000000001 (0.886095490040947+0j)\n",
      "0.8800000000000001 (0.8948097328556313+0j)\n",
      "0.9000000000000001 (0.9057806082897737+0j)\n",
      "0.9199999999999999 (0.9181153516324365+0j)\n",
      "0.94 (0.9308979660548966+0j)\n",
      "0.96 (0.9432641787417952+0j)\n",
      "0.98 (0.9544646647137509+0j)\n"
     ]
    }
   ],
   "source": [
    "#psiA = np.sqrt(0.2)*qi.Statevector.from_label('00-').data ++np.sqrt(0.7)*qi.Statevector.from_label('00+').data\n",
    "\n",
    "#Changed the wave function to make it easier to get to\n",
    "psiA = np.sqrt(0.2)*qi.Statevector.from_label('000').data\n",
    "psiA = psiA/np.sqrt(bkt(psiA,I0(L0+2),psiA))\n",
    "wl = [wi*0.02-1 for wi in range(0,100)]\n",
    "\n",
    "cx = 0.1\n",
    "t = np.pi/(2*cx)\n",
    "Ns = 100\n",
    "dt = 0.1\n",
    "pl = []\n",
    "for w in wl:\n",
    "    psiS = psiA\n",
    "    for ti in range(0,int(t/dt)):\n",
    "        psiS = Mdot([UG(cx,w,dt/2),psiS])\n",
    "    pw = bkt(psiS,Z(0,L0+2),psiS)\n",
    "    print(w,pw)\n",
    "\n",
    "    pl.append(pw)"
   ]
  },
  {
   "cell_type": "code",
   "execution_count": 114,
   "metadata": {},
   "outputs": [
    {
     "data": {
      "image/png": "[encoded data removed]",
      "text/plain": [
       "<Figure size 432x288 with 1 Axes>"
      ]
     },
     "metadata": {
      "needs_background": "light"
     },
     "output_type": "display_data"
    }
   ],
   "source": [
    "marker = [1 for i in e0]\n",
    "\n",
    "plt.plot(wl,pl)\n",
    "plt.scatter(e0,marker)\n",
    "plt.show()"
   ]
  },
  {
   "cell_type": "markdown",
   "metadata": {},
   "source": [
    "## Now use the qiskit gates"
   ]
  },
  {
   "cell_type": "code",
   "execution_count": 31,
   "metadata": {},
   "outputs": [],
   "source": [
    "from qiskit import IBMQ, QuantumRegister, QuantumCircuit, ClassicalRegister\n",
    "from qiskit.compiler import transpile, assemble\n",
    "from qiskit.visualization import plot_histogram\n",
    "from qiskit import Aer\n",
    "\n",
    "import copy"
   ]
  },
  {
   "cell_type": "code",
   "execution_count": 22,
   "metadata": {},
   "outputs": [],
   "source": [
    "qr = QuantumRegister(3, name='q')\n",
    "cr = ClassicalRegister(3, name='c')\n",
    "qc = QuantumCircuit(qr, cr)"
   ]
  },
  {
   "cell_type": "code",
   "execution_count": 26,
   "metadata": {},
   "outputs": [],
   "source": [
    "#Reversed the labeling of the qubits\n",
    "\n",
    "def apply_UQ(cir,cx,w,dt):\n",
    "    L=L0+2\n",
    "    w0 = w+1\n",
    "    \n",
    "    cir.rz(dt,2)  #Ua\n",
    "    \n",
    "    #Ub is a global phase\n",
    "    \n",
    "    cir.rz(-w0*dt,1) #Uc\n",
    "    \n",
    "    cir.rx(-mu*dt,0) #Ud\n",
    "    \n",
    "    cir.ry(np.pi/2,1) #Ue\n",
    "    cir.cx(1,0)\n",
    "    cir.rx(mu*dt,1)\n",
    "    cir.cx(1,0)\n",
    "    cir.ry(-np.pi/2,1)\n",
    "    \n",
    "    cir.cx(2,1)       #Uf\n",
    "    cir.rx(-2*cx*dt,2)\n",
    "    cir.cx(2,1)\n",
    "    \n",
    "    cir.cx(2,1)       #Uf\n",
    "    cir.rx(-2*cx*dt,2)\n",
    "    cir.cx(2,1)\n",
    "    \n",
    "    cir.ry(np.pi/2,1) #Ue\n",
    "    cir.cx(1,0)\n",
    "    cir.rx(mu*dt,1)\n",
    "    cir.cx(1,0)\n",
    "    cir.ry(-np.pi/2,1)\n",
    "    \n",
    "    cir.rx(-mu*dt,0) #Ud\n",
    "    \n",
    "    cir.rz(-w0*dt,1) #Uc\n",
    "    \n",
    "    cir.rz(dt,2)  #Ua\n",
    "    \n",
    "    return cir\n",
    "    \n"
   ]
  },
  {
   "cell_type": "code",
   "execution_count": 27,
   "metadata": {},
   "outputs": [
    {
     "data": {
      "text/plain": [
       "<qiskit.circuit.quantumcircuit.QuantumCircuit at 0x1bbe97d0790>"
      ]
     },
     "execution_count": 27,
     "metadata": {},
     "output_type": "execute_result"
    }
   ],
   "source": [
    "cir = copy.deepcopy(qc)\n",
    "apply_UQ(cir,w,cx,dt)\n",
    "\n",
    "#cir.draw()"
   ]
  },
  {
   "cell_type": "code",
   "execution_count": 150,
   "metadata": {},
   "outputs": [
    {
     "data": {
      "text/plain": [
       "3.3308497693360055e-16"
      ]
     },
     "execution_count": 150,
     "metadata": {},
     "output_type": "execute_result"
    }
   ],
   "source": [
    "cir = copy.deepcopy(qc)\n",
    "apply_UQ(cir,w,cx,dt/2)\n",
    "psi000 = qi.Statevector.from_label('000').data\n",
    "\n",
    "np.amax(np.abs(qi.Statevector.from_instruction(cir).data-Mdot([UG(w,cx,dt/2),psi000])))"
   ]
  },
  {
   "cell_type": "code",
   "execution_count": 239,
   "metadata": {
    "scrolled": true
   },
   "outputs": [
    {
     "name": "stdout",
     "output_type": "stream",
     "text": [
      "-1.0\n",
      "-0.98\n",
      "-0.96\n",
      "-0.94\n",
      "-0.92\n",
      "-0.9\n",
      "-0.88\n",
      "-0.86\n",
      "-0.84\n",
      "-0.8200000000000001\n",
      "-0.8\n",
      "-0.78\n",
      "-0.76\n",
      "-0.74\n",
      "-0.72\n",
      "-0.7\n",
      "-0.6799999999999999\n",
      "-0.6599999999999999\n",
      "-0.64\n",
      "-0.62\n",
      "-0.6\n",
      "-0.5800000000000001\n",
      "-0.56\n",
      "-0.54\n",
      "-0.52\n",
      "-0.5\n",
      "-0.48\n",
      "-0.45999999999999996\n",
      "-0.43999999999999995\n",
      "-0.42000000000000004\n",
      "-0.4\n",
      "-0.38\n",
      "-0.36\n",
      "-0.33999999999999997\n",
      "-0.31999999999999995\n",
      "-0.29999999999999993\n",
      "-0.28\n",
      "-0.26\n",
      "-0.24\n",
      "-0.21999999999999997\n",
      "-0.19999999999999996\n",
      "-0.17999999999999994\n",
      "-0.16000000000000003\n",
      "-0.14\n",
      "-0.12\n",
      "-0.09999999999999998\n",
      "-0.07999999999999996\n",
      "-0.05999999999999994\n",
      "-0.040000000000000036\n",
      "-0.020000000000000018\n",
      "0.0\n",
      "0.020000000000000018\n",
      "0.040000000000000036\n",
      "0.06000000000000005\n",
      "0.08000000000000007\n",
      "0.10000000000000009\n",
      "0.1200000000000001\n",
      "0.14000000000000012\n",
      "0.15999999999999992\n",
      "0.17999999999999994\n",
      "0.19999999999999996\n",
      "0.21999999999999997\n",
      "0.24\n",
      "0.26\n",
      "0.28\n",
      "0.30000000000000004\n",
      "0.32000000000000006\n",
      "0.3400000000000001\n",
      "0.3600000000000001\n",
      "0.3800000000000001\n",
      "0.40000000000000013\n",
      "0.41999999999999993\n",
      "0.43999999999999995\n",
      "0.45999999999999996\n",
      "0.48\n",
      "0.5\n",
      "0.52\n",
      "0.54\n",
      "0.56\n",
      "0.5800000000000001\n",
      "0.6000000000000001\n",
      "0.6200000000000001\n",
      "0.6400000000000001\n",
      "0.6600000000000001\n",
      "0.6799999999999999\n",
      "0.7\n",
      "0.72\n",
      "0.74\n",
      "0.76\n",
      "0.78\n",
      "0.8\n",
      "0.8200000000000001\n",
      "0.8400000000000001\n",
      "0.8600000000000001\n",
      "0.8800000000000001\n",
      "0.9000000000000001\n",
      "0.9199999999999999\n",
      "0.94\n",
      "0.96\n",
      "0.98\n"
     ]
    }
   ],
   "source": [
    "qr = QuantumRegister(3, name='q')\n",
    "cr = ClassicalRegister(3, name='c')\n",
    "qc = QuantumCircuit(qr, cr)\n",
    "\n",
    "\n",
    "wl = [wi*0.02-1 for wi in range(0,100)]\n",
    "\n",
    "#wl = [0.28,0.98]\n",
    "cir_l = [] \n",
    "\n",
    "cx = 0.1\n",
    "t = np.pi/(2*cx)\n",
    "Ns = 100\n",
    "dt = 0.1\n",
    "pl = []\n",
    "for w in wl:\n",
    "    print(w)\n",
    "    cir = copy.deepcopy(qc)\n",
    "    for ti in range(0,int(t/dt)):\n",
    "        apply_UQ(cir,cx,w,dt/2)\n",
    "    cir_l.append(cir)\n",
    "    \n",
    "    #cir.measure(0,0)\n",
    "    #cir.measure(1,1)\n",
    "    cir.measure(2,2)\n"
   ]
  },
  {
   "cell_type": "code",
   "execution_count": 240,
   "metadata": {},
   "outputs": [],
   "source": [
    "backend = Aer.get_backend(\"qasm_simulator\")\n",
    "\n",
    "qobj = assemble(transpile(cir_l, backend=backend), backend=backend, shots=2056)"
   ]
  },
  {
   "cell_type": "code",
   "execution_count": 241,
   "metadata": {},
   "outputs": [
    {
     "name": "stdout",
     "output_type": "stream",
     "text": [
      "e4e8caeb-1a63-42d0-8249-a341e7875304\n",
      "Job Status: job has successfully run\n"
     ]
    }
   ],
   "source": [
    "job = backend.run(qobj)\n",
    "print(job.job_id())\n",
    "from qiskit.tools.monitor import job_monitor\n",
    "job_monitor(job)"
   ]
  },
  {
   "cell_type": "code",
   "execution_count": 243,
   "metadata": {},
   "outputs": [
    {
     "data": {
      "image/png": "[encoded data removed]",
      "text/plain": [
       "<Figure size 432x288 with 1 Axes>"
      ]
     },
     "metadata": {
      "needs_background": "light"
     },
     "output_type": "display_data"
    }
   ],
   "source": [
    "zr = job.result().get_counts()\n",
    "pz = [(zr[i]['000']-zr[i]['100'])/(zr[i]['000']+zr[i]['100']) for i in range(len(wl))]\n",
    "\n",
    "marker = [1 for i in e0]\n",
    "\n",
    "plt.plot(wl,pz)\n",
    "plt.scatter(e0,marker)\n",
    "plt.show()"
   ]
  },
  {
   "cell_type": "markdown",
   "metadata": {},
   "source": [
    "### and on a real device"
   ]
  },
  {
   "cell_type": "code",
   "execution_count": 245,
   "metadata": {},
   "outputs": [
    {
     "name": "stderr",
     "output_type": "stream",
     "text": [
      "C:\\Users\\jsten\\Anaconda3\\envs\\qiskit20_new\\lib\\site-packages\\qiskit\\providers\\ibmq\\ibmqfactory.py:192: UserWarning: Timestamps in IBMQ backend properties, jobs, and job results are all now in local time instead of UTC.\n",
      "  warnings.warn('Timestamps in IBMQ backend properties, jobs, and job results '\n"
     ]
    }
   ],
   "source": [
    "IBMQ.load_account()\n",
    "provider = IBMQ.get_provider(hub='ibm-q-university', group='uni-pittsburgh', project='main')"
   ]
  },
  {
   "cell_type": "code",
   "execution_count": 246,
   "metadata": {},
   "outputs": [],
   "source": [
    "backend = provider.get_backend('ibmq_casablanca')\n",
    "\n",
    "qobj = assemble(transpile(cir_l, backend=backend), backend=backend, shots=2056)"
   ]
  },
  {
   "cell_type": "code",
   "execution_count": 247,
   "metadata": {},
   "outputs": [
    {
     "name": "stdout",
     "output_type": "stream",
     "text": [
      "60340920ecd3fd7089844c04\n",
      "Job Status: job has successfully run\n"
     ]
    }
   ],
   "source": [
    "job = backend.run(qobj)\n",
    "print(job.job_id())\n",
    "from qiskit.tools.monitor import job_monitor\n",
    "job_monitor(job)"
   ]
  },
  {
   "cell_type": "code",
   "execution_count": 248,
   "metadata": {},
   "outputs": [
    {
     "data": {
      "image/png": "[encoded data removed]",
      "text/plain": [
       "<Figure size 432x288 with 1 Axes>"
      ]
     },
     "metadata": {
      "needs_background": "light"
     },
     "output_type": "display_data"
    }
   ],
   "source": [
    "zr = job.result().get_counts()\n",
    "pz = [(zr[i]['000']-zr[i]['100'])/(zr[i]['000']+zr[i]['100']) for i in range(len(wl))]\n",
    "\n",
    "marker = [1 for i in e0]\n",
    "\n",
    "plt.plot(wl,pz)\n",
    "plt.scatter(e0,marker)\n",
    "plt.show()"
   ]
  },
  {
   "cell_type": "code",
   "execution_count": null,
   "metadata": {},
   "outputs": [],
   "source": []
  }
 ],
 "metadata": {
  "kernelspec": {
   "display_name": "Python [conda env:qiskit20_new]",
   "language": "python",
   "name": "conda-env-qiskit20_new-py"
  },
  "language_info": {
   "codemirror_mode": {
    "name": "ipython",
    "version": 3
   },
   "file_extension": ".py",
   "mimetype": "text/x-python",
   "name": "python",
   "nbconvert_exporter": "python",
   "pygments_lexer": "ipython3",
   "version": "3.8.5"
  }
 },
 "nbformat": 4,
 "nbformat_minor": 4
}
