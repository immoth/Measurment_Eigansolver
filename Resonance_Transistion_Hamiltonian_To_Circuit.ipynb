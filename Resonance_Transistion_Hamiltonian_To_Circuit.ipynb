{
 "cells": [
  {
   "cell_type": "code",
   "execution_count": 18,
   "metadata": {},
   "outputs": [],
   "source": [
    "from qiskit import quantum_info as qi\n",
    "import numpy as np\n",
    "import pandas as pd\n",
    "import scipy.linalg as lng\n",
    "import random as rnd\n",
    "import matplotlib.pyplot as plt\n",
    "pd.options.display.float_format = '{:,.1f}'.format"
   ]
  },
  {
   "cell_type": "code",
   "execution_count": 19,
   "metadata": {},
   "outputs": [],
   "source": [
    "def I0(L):\n",
    "    label = \"\"\n",
    "    for i in range(0,L):\n",
    "        label += \"I\"\n",
    "    return qi.Operator.from_label(label).data\n",
    "\n",
    "def X(l,L):\n",
    "    label = \"\"\n",
    "    for i in range(0,l):\n",
    "        label += \"I\"\n",
    "    label += \"X\"\n",
    "    for i in range(l+1,L):\n",
    "        label += \"I\"\n",
    "    return qi.Operator.from_label(label).data\n",
    "\n",
    "def Y(l,L):\n",
    "    label = \"\"\n",
    "    for i in range(0,l):\n",
    "        label += \"I\"\n",
    "    label += \"Y\"\n",
    "    for i in range(l+1,L):\n",
    "        label += \"I\"\n",
    "    return qi.Operator.from_label(label).data\n",
    "\n",
    "def Z(l,L):\n",
    "    label = \"\"\n",
    "    for i in range(0,l):\n",
    "        label += \"I\"\n",
    "    label += \"Z\"\n",
    "    for i in range(l+1,L):\n",
    "        label += \"I\"\n",
    "    return qi.Operator.from_label(label).data\n",
    "    \n",
    "def gx(l,L):\n",
    "    label = \"\"\n",
    "    for i in range(0,l):\n",
    "        label += \"Z\"\n",
    "    label += \"X\"\n",
    "    for i in range(l+1,L):\n",
    "        label += \"I\"\n",
    "    return qi.Operator.from_label(label).data\n",
    "\n",
    "def gy(l,L):\n",
    "    label = \"\"\n",
    "    for i in range(0,l):\n",
    "        label += \"Z\"\n",
    "    label += \"Y\"\n",
    "    for i in range(l+1,L):\n",
    "        label += \"I\"\n",
    "    return qi.Operator.from_label(label).data\n",
    "\n",
    "def cd(l,L):\n",
    "    return 1/2*(gx(l,L)+1j*gy(l,L))\n",
    "\n",
    "def c(l,L):\n",
    "    return 1/2*(gx(l,L)-1j*gy(l,L))"
   ]
  },
  {
   "cell_type": "code",
   "execution_count": 20,
   "metadata": {},
   "outputs": [],
   "source": [
    "def bkt(psi_a,U,psi_b):\n",
    "    return np.dot(np.conjugate(psi_a),np.dot(U,psi_b))\n",
    "\n",
    "def Mdot(Ol):\n",
    "    m = Ol[0]\n",
    "    for i in range(1,len(Ol)):\n",
    "        m = np.dot(Ol[i],m)\n",
    "    return m"
   ]
  },
  {
   "cell_type": "code",
   "execution_count": 21,
   "metadata": {},
   "outputs": [],
   "source": [
    "mu = 0.7\n",
    "\n",
    "H0 = mu*X(0,1)"
   ]
  },
  {
   "cell_type": "code",
   "execution_count": 22,
   "metadata": {},
   "outputs": [
    {
     "name": "stdout",
     "output_type": "stream",
     "text": [
      "         0        1\n",
      "0 0.0+0.0j 0.7+0.0j\n",
      "1 0.7+0.0j 0.0+0.0j\n",
      "[ 0.7+0.j -0.7+0.j]\n"
     ]
    },
    {
     "data": {
      "text/plain": [
       "array([ 0.70710678-0.j, -0.70710678+0.j])"
      ]
     },
     "execution_count": 22,
     "metadata": {},
     "output_type": "execute_result"
    }
   ],
   "source": [
    "print(pd.DataFrame(H0))\n",
    "e0,y0 = lng.eig(H0)\n",
    "psi0 = np.conjugate(np.transpose(y0))\n",
    "print(e0)\n",
    "psi0[1]"
   ]
  },
  {
   "cell_type": "code",
   "execution_count": 23,
   "metadata": {},
   "outputs": [],
   "source": [
    "L0 = int(np.log2(len(H0)))\n",
    "\n",
    "Hb =-1/2*Z(0,L0+2)\n",
    "\n",
    "def Hx(cx):\n",
    "    return cx*(Mdot([X(0,L0+2),X(1,L0+2)])) \n",
    "\n",
    "def HR(w):\n",
    "    w0 = w+1\n",
    "    L = L0+1\n",
    "    return (w0*I0(L)+w0*Z(0,L)+np.kron(I0(1),H0)-np.kron(Z(0,1),H0))/2\n",
    "\n",
    "def H(cx,w):\n",
    "    return Hb + Hx(cx) + np.kron(I0(1),HR(w))\n",
    "    "
   ]
  },
  {
   "cell_type": "markdown",
   "metadata": {},
   "source": [
    "## Using the full exponential"
   ]
  },
  {
   "cell_type": "code",
   "execution_count": 26,
   "metadata": {},
   "outputs": [],
   "source": [
    "def U(cx,w,t):\n",
    "    e,psi_d = lng.eig(H(cx,w))\n",
    "    psi = np.conjugate(np.transpose(psi_d))\n",
    "    eD = np.diag(e)\n",
    "    exp = np.exp(1j*e*t)\n",
    "    expD = np.diag(exp)\n",
    "    return Mdot([psi,expD,psi_d])\n"
   ]
  },
  {
   "cell_type": "code",
   "execution_count": 27,
   "metadata": {},
   "outputs": [],
   "source": [
    "#psiA = np.sqrt(0.2)*qi.Statevector.from_label('00-').data ++np.sqrt(0.7)*qi.Statevector.from_label('00+').data\n",
    "#psiA = psiA/np.sqrt(bkt(psiA,I0(L0+2),psiA))\n",
    "\n",
    "psiA = qi.Statevector.from_label('000').data\n",
    "\n",
    "wl = [wi*0.01-1.5 for wi in range(0,300)]\n",
    "\n",
    "t = 200.0\n",
    "t=5\n",
    "cx = 0.01\n",
    "Ns = 100\n",
    "pl = []\n",
    "for w in wl:\n",
    "    psiS = psiA\n",
    "    psiS = Mdot([U(cx,w,t),psiS])\n",
    "    pw = bkt(psiS,Z(0,L0+2),psiS)\n",
    "\n",
    "    pl.append(pw)"
   ]
  },
  {
   "cell_type": "code",
   "execution_count": 28,
   "metadata": {},
   "outputs": [
    {
     "name": "stderr",
     "output_type": "stream",
     "text": [
      "C:\\Users\\jsten\\Anaconda3\\envs\\qiskit20_new\\lib\\site-packages\\numpy\\core\\_asarray.py:83: ComplexWarning: Casting complex values to real discards the imaginary part\n",
      "  return array(a, dtype, copy=False, order=order)\n",
      "C:\\Users\\jsten\\Anaconda3\\envs\\qiskit20_new\\lib\\site-packages\\numpy\\core\\_asarray.py:136: ComplexWarning: Casting complex values to real discards the imaginary part\n",
      "  return array(a, dtype, copy=False, order=order, subok=True)\n"
     ]
    },
    {
     "data": {
      "image/png": "[encoded data removed]",
      "text/plain": [
       "<Figure size 432x288 with 1 Axes>"
      ]
     },
     "metadata": {
      "needs_background": "light"
     },
     "output_type": "display_data"
    }
   ],
   "source": [
    "marker = [1 for i in e0]\n",
    "\n",
    "plt.plot(wl,pl)\n",
    "plt.scatter(e0,marker)\n",
    "plt.show()"
   ]
  },
  {
   "cell_type": "markdown",
   "metadata": {},
   "source": [
    "## Using broken up exponential to match the circuit "
   ]
  },
  {
   "cell_type": "markdown",
   "metadata": {},
   "source": [
    "$H = -\\frac{1}{2} Z_0 + \\epsilon_0 I + \\epsilon_0 Z_1 + H_0 - Z_1 H_0 +c_x X_0 X_1$\n",
    "\n",
    "$H_0 = X_2$\n",
    "\n",
    "$H = -\\frac{1}{2} Z_0 + \\frac{1}{2}\\epsilon_0 I + \\frac{1}{2}\\epsilon_0 Z_1 + \\frac{1}{2}X_2 - \\frac{1}{2}Z_1 X_2 +c_x X_0 X_1$\n",
    "\n",
    "$U(dt) = e^{i(-\\frac{1}{2} Z_0 + \\frac{1}{2}\\epsilon_0 I + \\frac{1}{2}\\epsilon_0 Z_1 + \\frac{1}{2}X_2 - \\frac{1}{2}Z_1 X_2 +c_x X_0 X_1)dt} \\approx e^{-i\\frac{1}{2}Z_0 dt}e^{i \\frac{1}{2}\\epsilon_0 dt}e^{i \\frac{1}{2}\\epsilon_0 Z_1 dt}e^{i\\frac{1}{2} X_2 dt}e^{-i\\frac{1}{2} Z_1 X_2 dt}e^{c_x X_0 X_1 dt}$\n",
    "\n",
    "or to second order trotterization\n",
    "\n",
    "$U(2dt) \\approx e^{-i\\frac{1}{2}Z_0 dt}e^{i \\frac{1}{2}\\epsilon_0 dt}e^{i \\frac{1}{2}\\epsilon_0 Z_1 dt}e^{i\\frac{1}{2} X_2 dt}e^{-i\\frac{1}{2} Z_1 X_2 dt}e^{c_x X_0 X_1 dt}   e^{c_x X_0 X_1 dt}e^{-i\\frac{1}{2} Z_1 X_2 dt}e^{i\\frac{1}{2} \\epsilon_0 Z_1 dt}e^{i\\frac{1}{2} X_2 dt}e^{i\\frac{1}{2} \\epsilon_0 dt}e^{-i\\frac{1}{2}Z_0 dt}$"
   ]
  },
  {
   "cell_type": "code",
   "execution_count": 72,
   "metadata": {},
   "outputs": [],
   "source": [
    "def UT(cx,w,dt):\n",
    "    L=L0+2\n",
    "    w0 = w+1\n",
    "    Ua = np.cos(-1/2*dt)*I0(L) + 1j*np.sin(-1/2*dt)*Z(0,L)\n",
    "    Ub = np.cos(1/2*w0*dt)*I0(L) + 1j*np.sin(1/2*w0*dt)*I0(L)\n",
    "    Uc = np.cos(1/2*w0*dt)*I0(L) + 1j*np.sin(1/2*w0*dt)*Z(1,L)\n",
    "    Ud = np.cos(1/2*mu*dt)*I0(L) + 1j*np.sin(1/2*mu*dt)*X(2,L)\n",
    "    Ue = np.cos(-1/2*mu*dt)*I0(L) + 1j*np.sin(-1/2*mu*dt)*Mdot([Z(1,L),X(2,L)])\n",
    "    Uf = np.cos(cx*dt)*I0(L) + 1j*np.sin(cx*dt)*Mdot([X(0,L),X(1,L)])\n",
    "    return Mdot([Ua,Ub,Uc,Ud,Ue,Uf,Uf,Ue,Ud,Uc,Ub,Ua])"
   ]
  },
  {
   "cell_type": "code",
   "execution_count": 73,
   "metadata": {},
   "outputs": [
    {
     "name": "stdout",
     "output_type": "stream",
     "text": [
      "0.019999665841244817\n",
      "2.8082904498539115e-08\n"
     ]
    }
   ],
   "source": [
    "dt = 0.01\n",
    "print(np.amax(np.abs(U(0.1,0.5,dt)-I0(3))))\n",
    "print(np.amax(np.abs(U(0.1,0.5,dt)-UT(0.1,0.5,dt/2))))"
   ]
  },
  {
   "cell_type": "code",
   "execution_count": 88,
   "metadata": {
    "scrolled": true
   },
   "outputs": [
    {
     "name": "stdout",
     "output_type": "stream",
     "text": [
      "-1.5 (0.9453345489115937+0j)\n",
      "-1.47 (0.9370961382723878+0j)\n",
      "-1.44 (0.9284151385217031+0j)\n",
      "-1.41 (0.9193489524353071+0j)\n",
      "-1.38 (0.9099607309852336+0j)\n",
      "-1.35 (0.9003186732030068+0j)\n",
      "-1.32 (0.8904952485424824+0j)\n",
      "-1.29 (0.8805663516357369+0j)\n",
      "-1.26 (0.8706104003673247+0j)\n",
      "-1.23 (0.8607073890759928+0j)\n",
      "-1.2 (0.8509379094159223+0j)\n",
      "-1.17 (0.8413821519604875+0j)\n",
      "-1.1400000000000001 (0.8321189020015606+0j)\n",
      "-1.1099999999999999 (0.8232245431807587+0j)\n",
      "-1.08 (0.81477208258215+0j)\n",
      "-1.05 (0.8068302107176271+0j)\n",
      "-1.02 (0.7994624094491422+0j)\n",
      "-0.99 (0.792726120320184+0j)\n",
      "-0.96 (0.7866719850197001+0j)\n",
      "-0.93 (0.7813431687852329+0j)\n",
      "-0.9 (0.7767747764801074+0j)\n",
      "-0.87 (0.7729933698666881+0j)\n",
      "-0.8400000000000001 (0.7700165932605574+0j)\n",
      "-0.81 (0.7678529133069567+0j)\n",
      "-0.78 (0.7665014770912548+0j)\n",
      "-0.75 (0.7659520911999678+0j)\n",
      "-0.72 (0.7661853227109039+0j)\n",
      "-0.6900000000000001 (0.767172721432034+0j)\n",
      "-0.66 (0.7688771610530443+0j)\n",
      "-0.63 (0.7712532952429659+0j)\n",
      "-0.6000000000000001 (0.7742481231457323+0j)\n",
      "-0.5700000000000001 (0.7778016572146095+0j)\n",
      "-0.54 (0.7818476849073286+0j)\n",
      "-0.51 (0.7863146144569739+0j)\n",
      "-0.48 (0.7911263937569343+0j)\n",
      "-0.44999999999999996 (0.7962034903690728+0j)\n",
      "-0.41999999999999993 (0.8014639197964425+0j)\n",
      "-0.3900000000000001 (0.8068243084685767+0j)\n",
      "-0.3600000000000001 (0.8122009773780506+0j)\n",
      "-0.33000000000000007 (0.8175110319895609+0j)\n",
      "-0.30000000000000004 (0.8226734439213537+0j)\n",
      "-0.27 (0.8276101099761274+0j)\n",
      "-0.24 (0.8322468743735087+0j)\n",
      "-0.20999999999999996 (0.8365145005050351+0j)\n",
      "-0.18000000000000016 (0.8403495791898664+0j)\n",
      "-0.15000000000000013 (0.843695361245361+0j)\n",
      "-0.1200000000000001 (0.8465025031906837+0j)\n",
      "-0.09000000000000008 (0.8487297160594571+0j)\n",
      "-0.06000000000000005 (0.8503443085936704+0j)\n",
      "-0.030000000000000027 (0.851322617507412+0j)\n",
      "0.0 (0.8516503190265271+0j)\n",
      "0.030000000000000027 (0.8513226175074162+0j)\n",
      "0.06000000000000005 (0.850344308593665+0j)\n",
      "0.08999999999999986 (0.848729716059456+0j)\n",
      "0.11999999999999988 (0.8465025031906868+0j)\n",
      "0.1499999999999999 (0.8436953612453626+0j)\n",
      "0.17999999999999994 (0.8403495791898675+0j)\n",
      "0.20999999999999996 (0.8365145005050358+0j)\n",
      "0.24 (0.8322468743735094+0j)\n",
      "0.27 (0.827610109976129+0j)\n",
      "0.2999999999999998 (0.8226734439213528+0j)\n",
      "0.32999999999999985 (0.8175110319895629+0j)\n",
      "0.3599999999999999 (0.812200977378047+0j)\n",
      "0.3899999999999999 (0.8068243084685773+0j)\n",
      "0.41999999999999993 (0.8014639197964454+0j)\n",
      "0.44999999999999996 (0.7962034903690727+0j)\n",
      "0.48 (0.7911263937569339+0j)\n",
      "0.5099999999999998 (0.7863146144569765+0j)\n",
      "0.54 (0.7818476849073336+0j)\n",
      "0.5699999999999998 (0.777801657214606+0j)\n",
      "0.6000000000000001 (0.7742481231457301+0j)\n",
      "0.6299999999999999 (0.7712532952429614+0j)\n",
      "0.6600000000000001 (0.7688771610530478+0j)\n",
      "0.69 (0.7671727214320372+0j)\n",
      "0.7199999999999998 (0.7661853227109057+0j)\n",
      "0.75 (0.7659520911999678+0j)\n",
      "0.7799999999999998 (0.7665014770912517+0j)\n",
      "0.81 (0.7678529133069547+0j)\n",
      "0.8399999999999999 (0.7700165932605573+0j)\n",
      "0.8700000000000001 (0.7729933698666872+0j)\n",
      "0.8999999999999999 (0.776774776480105+0j)\n",
      "0.9299999999999997 (0.7813431687852317+0j)\n",
      "0.96 (0.7866719850197005+0j)\n",
      "0.9899999999999998 (0.7927261203201871+0j)\n",
      "1.02 (0.7994624094491415+0j)\n",
      "1.0499999999999998 (0.8068302107176248+0j)\n",
      "1.08 (0.8147720825821511+0j)\n",
      "1.1099999999999999 (0.8232245431807612+0j)\n",
      "1.1399999999999997 (0.8321189020015586+0j)\n",
      "1.17 (0.8413821519604886+0j)\n",
      "1.1999999999999997 (0.8509379094159198+0j)\n",
      "1.23 (0.8607073890759884+0j)\n",
      "1.2599999999999998 (0.8706104003673255+0j)\n",
      "1.29 (0.8805663516357389+0j)\n",
      "1.3199999999999998 (0.8904952485424817+0j)\n",
      "1.35 (0.9003186732030078+0j)\n",
      "1.38 (0.9099607309852278+0j)\n",
      "1.4099999999999997 (0.9193489524353078+0j)\n",
      "1.44 (0.9284151385217051+0j)\n",
      "1.4699999999999998 (0.9370961382723892+0j)\n"
     ]
    }
   ],
   "source": [
    "#psiA = np.sqrt(0.2)*qi.Statevector.from_label('00-').data ++np.sqrt(0.7)*qi.Statevector.from_label('00+').data\n",
    "#psiA = psiA/np.sqrt(bkt(psiA,I0(L0+2),psiA))\n",
    "\n",
    "psiA = qi.Statevector.from_label('000').data\n",
    "\n",
    "wl = [wi*0.03-1.5 for wi in range(0,100)]\n",
    "\n",
    "cx = 0.1\n",
    "#t = np.pi/(2*cx)\n",
    "t = 5\n",
    "Ns = 100\n",
    "dt = 1.0\n",
    "pl = []\n",
    "for w in wl:\n",
    "    psiS = psiA\n",
    "    for ti in range(0,int(t/dt)):\n",
    "        psiS = Mdot([UT(cx,w,dt/2),psiS])\n",
    "    pw = bkt(psiS,Z(0,L0+2),psiS)\n",
    "    print(w,pw)\n",
    "\n",
    "    pl.append(pw)"
   ]
  },
  {
   "cell_type": "code",
   "execution_count": 89,
   "metadata": {},
   "outputs": [
    {
     "data": {
      "image/png": "[encoded data removed]",
      "text/plain": [
       "<Figure size 432x288 with 1 Axes>"
      ]
     },
     "metadata": {
      "needs_background": "light"
     },
     "output_type": "display_data"
    }
   ],
   "source": [
    "marker = [1 for i in e0]\n",
    "\n",
    "plt.plot(wl,pl)\n",
    "plt.scatter(e0,marker)\n",
    "plt.show()"
   ]
  },
  {
   "cell_type": "markdown",
   "metadata": {},
   "source": [
    "## Using the gate version of the operators in U"
   ]
  },
  {
   "cell_type": "code",
   "execution_count": 30,
   "metadata": {},
   "outputs": [],
   "source": [
    "def Rz(phi,l,L):\n",
    "    return np.cos(phi/2)*I0(L) + 1j*np.sin(phi/2)*Z(l,L)\n",
    "\n",
    "def Rx(phi,l,L):\n",
    "    return np.cos(phi/2)*I0(L) + 1j*np.sin(phi/2)*X(l,L)\n",
    "\n",
    "def Ry(phi,l,L):\n",
    "    return np.cos(phi/2)*I0(L) + 1j*np.sin(phi/2)*Y(l,L)\n",
    "\n",
    "def Cx(l,ll,L):\n",
    "    return 1/2*(I0(L)+Z(l,L)+X(ll,L)-Mdot([Z(l,L),X(ll,L)]))"
   ]
  },
  {
   "cell_type": "code",
   "execution_count": 31,
   "metadata": {},
   "outputs": [],
   "source": [
    "def UG(cx,w,dt):\n",
    "    L=L0+2\n",
    "    w0 = w+1\n",
    "    Ua = Rz(-dt,0,L)\n",
    "    Ub = np.exp(1j*1/2*w0*dt)*I0(L)  #A global phase\n",
    "    Uc = Rz(w0*dt,1,L)\n",
    "    Ud = Rx(mu*dt,2,L)\n",
    "    Ue =  Mdot([Ry(-np.pi/2,1,L),Cx(1,2,3),Rx(-mu*dt,1,3),Cx(1,2,3),Ry(np.pi/2,1,L)])\n",
    "    Uf = Mdot([Cx(0,1,3),Rx(2*cx*dt,0,3),Cx(0,1,3)])\n",
    "\n",
    "    #return Mdot([Ua,Ub,Uc,Ud,Ue,Uf,Uf,Ue,Ud,Uc,Ub,Ua])\n",
    "    return Mdot([Ua,Uc,Ud,Ue,Uf,Uf,Ue,Ud,Uc,Ua])"
   ]
  },
  {
   "cell_type": "code",
   "execution_count": 32,
   "metadata": {},
   "outputs": [],
   "source": [
    "#np.amax(np.abs(UT(cx,w,dt)-UG(cx,w,dt)))"
   ]
  },
  {
   "cell_type": "code",
   "execution_count": 33,
   "metadata": {
    "scrolled": true
   },
   "outputs": [
    {
     "name": "stdout",
     "output_type": "stream",
     "text": [
      "-1.5 (0.9453345489115932+0j)\n",
      "-1.47 (0.9370961382723895+0j)\n",
      "-1.44 (0.9284151385217061+0j)\n",
      "-1.41 (0.9193489524353086+0j)\n",
      "-1.38 (0.9099607309852351+0j)\n",
      "-1.35 (0.9003186732030095+0j)\n",
      "-1.32 (0.8904952485424833+0j)\n",
      "-1.29 (0.8805663516357382+0j)\n",
      "-1.26 (0.8706104003673277+0j)\n",
      "-1.23 (0.8607073890759952+0j)\n",
      "-1.2 (0.8509379094159252+0j)\n",
      "-1.17 (0.8413821519604903+0j)\n",
      "-1.1400000000000001 (0.8321189020015618+0j)\n",
      "-1.1099999999999999 (0.8232245431807601+0j)\n",
      "-1.08 (0.814772082582152+0j)\n",
      "-1.05 (0.8068302107176261+0j)\n",
      "-1.02 (0.799462409449144+0j)\n",
      "-0.99 (0.7927261203201879+0j)\n",
      "-0.96 (0.7866719850197048+0j)\n",
      "-0.93 (0.7813431687852328+0j)\n",
      "-0.9 (0.7767747764801063+0j)\n",
      "-0.87 (0.772993369866689+0j)\n",
      "-0.8400000000000001 (0.7700165932605565+0j)\n",
      "-0.81 (0.767852913306957+0j)\n",
      "-0.78 (0.7665014770912542+0j)\n",
      "-0.75 (0.7659520911999713+0j)\n",
      "-0.72 (0.7661853227109078+0j)\n",
      "-0.6900000000000001 (0.7671727214320381+0j)\n",
      "-0.66 (0.7688771610530457+0j)\n",
      "-0.63 (0.7712532952429655+0j)\n",
      "-0.6000000000000001 (0.7742481231457305+0j)\n",
      "-0.5700000000000001 (0.7778016572146074+0j)\n",
      "-0.54 (0.7818476849073325+0j)\n",
      "-0.51 (0.7863146144569754+0j)\n",
      "-0.48 (0.7911263937569356+0j)\n",
      "-0.44999999999999996 (0.7962034903690762+0j)\n",
      "-0.41999999999999993 (0.8014639197964489+0j)\n",
      "-0.3900000000000001 (0.806824308468578+0j)\n",
      "-0.3600000000000001 (0.8122009773780509+0j)\n",
      "-0.33000000000000007 (0.8175110319895662+0j)\n",
      "-0.30000000000000004 (0.8226734439213541+0j)\n",
      "-0.27 (0.8276101099761307+0j)\n",
      "-0.24 (0.8322468743735113+0j)\n",
      "-0.20999999999999996 (0.8365145005050376+0j)\n",
      "-0.18000000000000016 (0.84034957918987+0j)\n",
      "-0.15000000000000013 (0.843695361245367+0j)\n",
      "-0.1200000000000001 (0.8465025031906842+0j)\n",
      "-0.09000000000000008 (0.8487297160594589+0j)\n",
      "-0.06000000000000005 (0.8503443085936697+0j)\n",
      "-0.030000000000000027 (0.8513226175074176+0j)\n",
      "0.0 (0.8516503190265289+0j)\n",
      "0.030000000000000027 (0.8513226175074181+0j)\n",
      "0.06000000000000005 (0.8503443085936679+0j)\n",
      "0.08999999999999986 (0.8487297160594596+0j)\n",
      "0.11999999999999988 (0.846502503190685+0j)\n",
      "0.1499999999999999 (0.843695361245366+0j)\n",
      "0.17999999999999994 (0.8403495791898707+0j)\n",
      "0.20999999999999996 (0.8365145005050385+0j)\n",
      "0.24 (0.8322468743735112+0j)\n",
      "0.27 (0.8276101099761304+0j)\n",
      "0.2999999999999998 (0.8226734439213542+0j)\n",
      "0.32999999999999985 (0.817511031989566+0j)\n",
      "0.3599999999999999 (0.8122009773780504+0j)\n",
      "0.3899999999999999 (0.8068243084685798+0j)\n",
      "0.41999999999999993 (0.8014639197964494+0j)\n",
      "0.44999999999999996 (0.7962034903690758+0j)\n",
      "0.48 (0.7911263937569355+0j)\n",
      "0.5099999999999998 (0.7863146144569763+0j)\n",
      "0.54 (0.7818476849073335+0j)\n",
      "0.5699999999999998 (0.7778016572146071+0j)\n",
      "0.6000000000000001 (0.7742481231457303+0j)\n",
      "0.6299999999999999 (0.7712532952429649+0j)\n",
      "0.6600000000000001 (0.7688771610530464+0j)\n",
      "0.69 (0.7671727214320365+0j)\n",
      "0.7199999999999998 (0.7661853227109081+0j)\n",
      "0.75 (0.7659520911999715+0j)\n",
      "0.7799999999999998 (0.7665014770912545+0j)\n",
      "0.81 (0.7678529133069574+0j)\n",
      "0.8399999999999999 (0.7700165932605554+0j)\n",
      "0.8700000000000001 (0.7729933698666892+0j)\n",
      "0.8999999999999999 (0.7767747764801041+0j)\n",
      "0.9299999999999997 (0.7813431687852341+0j)\n",
      "0.96 (0.786671985019703+0j)\n",
      "0.9899999999999998 (0.7927261203201881+0j)\n",
      "1.02 (0.7994624094491442+0j)\n",
      "1.0499999999999998 (0.8068302107176266+0j)\n",
      "1.08 (0.8147720825821534+0j)\n",
      "1.1099999999999999 (0.823224543180759+0j)\n",
      "1.1399999999999997 (0.832118902001561+0j)\n",
      "1.17 (0.8413821519604917+0j)\n",
      "1.1999999999999997 (0.8509379094159233+0j)\n",
      "1.23 (0.8607073890759931+0j)\n",
      "1.2599999999999998 (0.8706104003673264+0j)\n",
      "1.29 (0.8805663516357379+0j)\n",
      "1.3199999999999998 (0.8904952485424847+0j)\n",
      "1.35 (0.9003186732030093+0j)\n",
      "1.38 (0.9099607309852331+0j)\n",
      "1.4099999999999997 (0.9193489524353106+0j)\n",
      "1.44 (0.928415138521707+0j)\n",
      "1.4699999999999998 (0.9370961382723902+0j)\n"
     ]
    }
   ],
   "source": [
    "#psiA = np.sqrt(0.2)*qi.Statevector.from_label('00-').data ++np.sqrt(0.7)*qi.Statevector.from_label('00+').data\n",
    "\n",
    "#Changed the wave function to make it easier to get to\n",
    "psiA = np.sqrt(0.2)*qi.Statevector.from_label('000').data\n",
    "psiA = psiA/np.sqrt(bkt(psiA,I0(L0+2),psiA))\n",
    "wl = [wi*0.03-1.5 for wi in range(0,100)]\n",
    "\n",
    "cx = 0.1\n",
    "#t = np.pi/(2*cx)\n",
    "t = 5\n",
    "Ns = 100\n",
    "#dt = 0.1\n",
    "dt = 1.0\n",
    "pl = []\n",
    "for w in wl:\n",
    "    psiS = psiA\n",
    "    for ti in range(0,int(t/dt)):\n",
    "        psiS = Mdot([UG(cx,w,dt/2),psiS])\n",
    "    pw = bkt(psiS,Z(0,L0+2),psiS)\n",
    "    print(w,pw)\n",
    "\n",
    "    pl.append(pw)"
   ]
  },
  {
   "cell_type": "code",
   "execution_count": 34,
   "metadata": {},
   "outputs": [
    {
     "data": {
      "image/png": "[encoded data removed]",
      "text/plain": [
       "<Figure size 432x288 with 1 Axes>"
      ]
     },
     "metadata": {
      "needs_background": "light"
     },
     "output_type": "display_data"
    }
   ],
   "source": [
    "marker = [1 for i in e0]\n",
    "\n",
    "plt.plot(wl,pl)\n",
    "plt.scatter(e0,marker)\n",
    "plt.show()"
   ]
  },
  {
   "cell_type": "markdown",
   "metadata": {},
   "source": [
    "## Now use the qiskit gates"
   ]
  },
  {
   "cell_type": "code",
   "execution_count": 35,
   "metadata": {},
   "outputs": [],
   "source": [
    "from qiskit import IBMQ, QuantumRegister, QuantumCircuit, ClassicalRegister\n",
    "from qiskit.compiler import transpile, assemble\n",
    "from qiskit.visualization import plot_histogram\n",
    "from qiskit import Aer\n",
    "\n",
    "import copy"
   ]
  },
  {
   "cell_type": "code",
   "execution_count": 36,
   "metadata": {},
   "outputs": [],
   "source": [
    "qr = QuantumRegister(3, name='q')\n",
    "cr = ClassicalRegister(3, name='c')\n",
    "qc = QuantumCircuit(qr, cr)"
   ]
  },
  {
   "cell_type": "code",
   "execution_count": 64,
   "metadata": {},
   "outputs": [],
   "source": [
    "#Reversed the labeling of the qubits\n",
    "mu = 0.7\n",
    "\n",
    "def apply_UQ(cir,cx,w,dt):\n",
    "    L=L0+2\n",
    "    w0 = w+1\n",
    "    \n",
    "    cir.rz(dt,2)  #Ua\n",
    "    \n",
    "    #Ub is a global phase\n",
    "    \n",
    "    cir.rz(-w0*dt,1) #Uc\n",
    "    \n",
    "    cir.rx(-mu*dt,0) #Ud\n",
    "    \n",
    "    cir.ry(np.pi/2,1) #Ue\n",
    "    cir.cx(1,0)\n",
    "    cir.rx(mu*dt,1)\n",
    "    cir.cx(1,0)\n",
    "    cir.ry(-np.pi/2,1)\n",
    "    \n",
    "    cir.cx(2,1)       #Uf\n",
    "    cir.rx(-2*cx*dt,2)\n",
    "    cir.cx(2,1)\n",
    "    \n",
    "    cir.cx(2,1)       #Uf\n",
    "    cir.rx(-2*cx*dt,2)\n",
    "    cir.cx(2,1)\n",
    "    \n",
    "    cir.ry(np.pi/2,1) #Ue\n",
    "    cir.cx(1,0)\n",
    "    cir.rx(mu*dt,1)\n",
    "    cir.cx(1,0)\n",
    "    cir.ry(-np.pi/2,1)\n",
    "    \n",
    "    cir.rx(-mu*dt,0) #Ud\n",
    "    \n",
    "    cir.rz(-w0*dt,1) #Uc\n",
    "    \n",
    "    cir.rz(dt,2)  #Ua\n",
    "    \n",
    "    return cir\n",
    "    \n"
   ]
  },
  {
   "cell_type": "code",
   "execution_count": 65,
   "metadata": {},
   "outputs": [
    {
     "data": {
      "text/plain": [
       "<qiskit.circuit.quantumcircuit.QuantumCircuit at 0x1ab67d3bdf0>"
      ]
     },
     "execution_count": 65,
     "metadata": {},
     "output_type": "execute_result"
    }
   ],
   "source": [
    "cir = copy.deepcopy(qc)\n",
    "apply_UQ(cir,w,cx,dt)\n",
    "\n",
    "#cir.draw()"
   ]
  },
  {
   "cell_type": "code",
   "execution_count": 66,
   "metadata": {},
   "outputs": [
    {
     "data": {
      "text/plain": [
       "2.2595656178141034e-16"
      ]
     },
     "execution_count": 66,
     "metadata": {},
     "output_type": "execute_result"
    }
   ],
   "source": [
    "cir = copy.deepcopy(qc)\n",
    "apply_UQ(cir,w,cx,dt/2)\n",
    "psi000 = qi.Statevector.from_label('000').data\n",
    "\n",
    "np.amax(np.abs(qi.Statevector.from_instruction(cir).data-Mdot([UG(w,cx,dt/2),psi000])))"
   ]
  },
  {
   "cell_type": "code",
   "execution_count": 67,
   "metadata": {
    "scrolled": true
   },
   "outputs": [
    {
     "name": "stdout",
     "output_type": "stream",
     "text": [
      "-1.5\n",
      "-1.47\n",
      "-1.44\n",
      "-1.41\n",
      "-1.38\n",
      "-1.35\n",
      "-1.32\n",
      "-1.29\n",
      "-1.26\n",
      "-1.23\n",
      "-1.2\n",
      "-1.17\n",
      "-1.1400000000000001\n",
      "-1.1099999999999999\n",
      "-1.08\n",
      "-1.05\n",
      "-1.02\n",
      "-0.99\n",
      "-0.96\n",
      "-0.93\n",
      "-0.9\n",
      "-0.87\n",
      "-0.8400000000000001\n",
      "-0.81\n",
      "-0.78\n",
      "-0.75\n",
      "-0.72\n",
      "-0.6900000000000001\n",
      "-0.66\n",
      "-0.63\n",
      "-0.6000000000000001\n",
      "-0.5700000000000001\n",
      "-0.54\n",
      "-0.51\n",
      "-0.48\n",
      "-0.44999999999999996\n",
      "-0.41999999999999993\n",
      "-0.3900000000000001\n",
      "-0.3600000000000001\n",
      "-0.33000000000000007\n",
      "-0.30000000000000004\n",
      "-0.27\n",
      "-0.24\n",
      "-0.20999999999999996\n",
      "-0.18000000000000016\n",
      "-0.15000000000000013\n",
      "-0.1200000000000001\n",
      "-0.09000000000000008\n",
      "-0.06000000000000005\n",
      "-0.030000000000000027\n",
      "0.0\n",
      "0.030000000000000027\n",
      "0.06000000000000005\n",
      "0.08999999999999986\n",
      "0.11999999999999988\n",
      "0.1499999999999999\n",
      "0.17999999999999994\n",
      "0.20999999999999996\n",
      "0.24\n",
      "0.27\n",
      "0.2999999999999998\n",
      "0.32999999999999985\n",
      "0.3599999999999999\n",
      "0.3899999999999999\n",
      "0.41999999999999993\n",
      "0.44999999999999996\n",
      "0.48\n",
      "0.5099999999999998\n",
      "0.54\n",
      "0.5699999999999998\n",
      "0.6000000000000001\n",
      "0.6299999999999999\n",
      "0.6600000000000001\n",
      "0.69\n",
      "0.7199999999999998\n",
      "0.75\n",
      "0.7799999999999998\n",
      "0.81\n",
      "0.8399999999999999\n",
      "0.8700000000000001\n",
      "0.8999999999999999\n",
      "0.9299999999999997\n",
      "0.96\n",
      "0.9899999999999998\n",
      "1.02\n",
      "1.0499999999999998\n",
      "1.08\n",
      "1.1099999999999999\n",
      "1.1399999999999997\n",
      "1.17\n",
      "1.1999999999999997\n",
      "1.23\n",
      "1.2599999999999998\n",
      "1.29\n",
      "1.3199999999999998\n",
      "1.35\n",
      "1.38\n",
      "1.4099999999999997\n",
      "1.44\n",
      "1.4699999999999998\n"
     ]
    }
   ],
   "source": [
    "qr = QuantumRegister(3, name='q')\n",
    "cr = ClassicalRegister(3, name='c')\n",
    "qc = QuantumCircuit(qr, cr)\n",
    "\n",
    "\n",
    "wl = [wi*0.03-1.5 for wi in range(0,100)]\n",
    "\n",
    "#wl = [0.28,0.98]\n",
    "cir_l = [] \n",
    "\n",
    "cx = 0.1\n",
    "t = np.pi/(2*cx)\n",
    "t = 5\n",
    "Ns = 100\n",
    "dt = 0.1\n",
    "dt = 1.0\n",
    "pl = []\n",
    "for w in wl:\n",
    "    print(w)\n",
    "    cir = copy.deepcopy(qc)\n",
    "    for ti in range(0,int(t/dt)):\n",
    "        apply_UQ(cir,cx,w,dt/2)\n",
    "    cir_l.append(cir)\n",
    "    \n",
    "    #cir.measure(0,0)\n",
    "    #cir.measure(1,1)\n",
    "    cir.measure(2,2)\n"
   ]
  },
  {
   "cell_type": "code",
   "execution_count": 68,
   "metadata": {},
   "outputs": [],
   "source": [
    "backend = Aer.get_backend(\"qasm_simulator\")\n",
    "\n",
    "qobj = assemble(transpile(cir_l, backend=backend), backend=backend, shots=2056)"
   ]
  },
  {
   "cell_type": "code",
   "execution_count": 69,
   "metadata": {},
   "outputs": [
    {
     "name": "stdout",
     "output_type": "stream",
     "text": [
      "130b5a3e-1667-4311-a4ba-b995e23d8fb2\n",
      "Job Status: job has successfully run\n"
     ]
    }
   ],
   "source": [
    "job = backend.run(qobj)\n",
    "print(job.job_id())\n",
    "from qiskit.tools.monitor import job_monitor\n",
    "job_monitor(job)"
   ]
  },
  {
   "cell_type": "code",
   "execution_count": 70,
   "metadata": {},
   "outputs": [
    {
     "data": {
      "image/png": "[encoded data removed]",
      "text/plain": [
       "<Figure size 432x288 with 1 Axes>"
      ]
     },
     "metadata": {
      "needs_background": "light"
     },
     "output_type": "display_data"
    }
   ],
   "source": [
    "zr = job.result().get_counts()\n",
    "pz = [(zr[i]['000']-zr[i]['100'])/(zr[i]['000']+zr[i]['100']) for i in range(len(wl))]\n",
    "\n",
    "marker = [1 for i in e0]\n",
    "\n",
    "plt.plot(wl,pz)\n",
    "plt.scatter(e0,marker)\n",
    "plt.show()"
   ]
  },
  {
   "cell_type": "markdown",
   "metadata": {},
   "source": [
    "### and on a real device"
   ]
  },
  {
   "cell_type": "code",
   "execution_count": 71,
   "metadata": {},
   "outputs": [
    {
     "name": "stderr",
     "output_type": "stream",
     "text": [
      "ibmqfactory.load_account:WARNING:2021-02-26 13:40:39,597: Credentials are already in use. The existing account in the session will be replaced.\n"
     ]
    }
   ],
   "source": [
    "IBMQ.load_account()\n",
    "provider = IBMQ.get_provider(hub='ibm-q-university', group='uni-pittsburgh', project='main')"
   ]
  },
  {
   "cell_type": "code",
   "execution_count": 72,
   "metadata": {},
   "outputs": [],
   "source": [
    "backend = provider.get_backend('ibmq_casablanca')\n",
    "\n",
    "qobj = assemble(transpile(cir_l, backend=backend), backend=backend, shots=2056)"
   ]
  },
  {
   "cell_type": "code",
   "execution_count": 73,
   "metadata": {},
   "outputs": [
    {
     "name": "stdout",
     "output_type": "stream",
     "text": [
      "603940b16760ce6cb860c2a5\n",
      "Job Status: job has successfully run\n"
     ]
    }
   ],
   "source": [
    "job = backend.run(qobj)\n",
    "print(job.job_id())\n",
    "from qiskit.tools.monitor import job_monitor\n",
    "job_monitor(job)"
   ]
  },
  {
   "cell_type": "code",
   "execution_count": 74,
   "metadata": {},
   "outputs": [
    {
     "data": {
      "image/png": "[encoded data removed]",
      "text/plain": [
       "<Figure size 432x288 with 1 Axes>"
      ]
     },
     "metadata": {
      "needs_background": "light"
     },
     "output_type": "display_data"
    }
   ],
   "source": [
    "zr = job.result().get_counts()\n",
    "pz = [(zr[i]['000']-zr[i]['100'])/(zr[i]['000']+zr[i]['100']) for i in range(len(wl))]\n",
    "\n",
    "marker = [1 for i in e0]\n",
    "\n",
    "plt.plot(wl,pz)\n",
    "plt.scatter(e0,marker)\n",
    "plt.show()"
   ]
  },
  {
   "cell_type": "code",
   "execution_count": 117,
   "metadata": {},
   "outputs": [
    {
     "data": {
      "image/png": "[encoded data removed]",
      "text/plain": [
       "<Figure size 432x288 with 1 Axes>"
      ]
     },
     "metadata": {
      "needs_background": "light"
     },
     "output_type": "display_data"
    }
   ],
   "source": [
    "zr = job.result().get_counts()\n",
    "pz = [(zr[i]['000']-zr[i]['100'])/(zr[i]['000']+zr[i]['100']) for i in range(len(wl))]\n",
    "\n",
    "marker = [1 for i in e0]\n",
    "\n",
    "plt.plot(wl,pz)\n",
    "plt.scatter(e0,marker)\n",
    "plt.show()"
   ]
  },
  {
   "cell_type": "code",
   "execution_count": 1,
   "metadata": {},
   "outputs": [
    {
     "data": {
      "text/plain": [
       "'C:\\\\Users\\\\jsten\\\\IBMQ\\\\Measurment_Eigensolver'"
      ]
     },
     "execution_count": 1,
     "metadata": {},
     "output_type": "execute_result"
    }
   ],
   "source": [
    "pwd"
   ]
  },
  {
   "cell_type": "code",
   "execution_count": null,
   "metadata": {},
   "outputs": [],
   "source": []
  }
 ],
 "metadata": {
  "kernelspec": {
   "display_name": "Python [conda env:qiskit20_new]",
   "language": "python",
   "name": "conda-env-qiskit20_new-py"
  },
  "language_info": {
   "codemirror_mode": {
    "name": "ipython",
    "version": 3
   },
   "file_extension": ".py",
   "mimetype": "text/x-python",
   "name": "python",
   "nbconvert_exporter": "python",
   "pygments_lexer": "ipython3",
   "version": "3.8.5"
  }
 },
 "nbformat": 4,
 "nbformat_minor": 4
}
