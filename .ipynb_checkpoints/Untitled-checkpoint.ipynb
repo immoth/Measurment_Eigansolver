{
 "cells": [
  {
   "cell_type": "code",
   "execution_count": 257,
   "metadata": {},
   "outputs": [],
   "source": [
    "from qiskit import quantum_info as qi\n",
    "import numpy as np\n",
    "import pandas as pd\n",
    "import scipy.linalg as lng\n",
    "import random as rnd\n",
    "import matplotlib.pyplot as plt\n",
    "pd.options.display.float_format = '{:,.1f}'.format"
   ]
  },
  {
   "cell_type": "code",
   "execution_count": 295,
   "metadata": {},
   "outputs": [],
   "source": [
    "def I0(L):\n",
    "    label = \"\"\n",
    "    for i in range(0,L):\n",
    "        label += \"I\"\n",
    "    return qi.Operator.from_label(label).data\n",
    "\n",
    "def X(l,L):\n",
    "    label = \"\"\n",
    "    for i in range(0,l):\n",
    "        label += \"I\"\n",
    "    label += \"X\"\n",
    "    for i in range(l+1,L):\n",
    "        label += \"I\"\n",
    "    return qi.Operator.from_label(label).data\n",
    "\n",
    "def Y(l,L):\n",
    "    label = \"\"\n",
    "    for i in range(0,l):\n",
    "        label += \"I\"\n",
    "    label += \"Y\"\n",
    "    for i in range(l+1,L):\n",
    "        label += \"I\"\n",
    "    return qi.Operator.from_label(label).data\n",
    "\n",
    "def Z(l,L):\n",
    "    label = \"\"\n",
    "    for i in range(0,l):\n",
    "        label += \"I\"\n",
    "    label += \"Z\"\n",
    "    for i in range(l+1,L):\n",
    "        label += \"I\"\n",
    "    return qi.Operator.from_label(label).data\n",
    "    \n",
    "def gx(l,L):\n",
    "    label = \"\"\n",
    "    for i in range(0,l):\n",
    "        label += \"Z\"\n",
    "    label += \"X\"\n",
    "    for i in range(l+1,L):\n",
    "        label += \"I\"\n",
    "    return qi.Operator.from_label(label).data\n",
    "\n",
    "def gy(l,L):\n",
    "    label = \"\"\n",
    "    for i in range(0,l):\n",
    "        label += \"Z\"\n",
    "    label += \"Y\"\n",
    "    for i in range(l+1,L):\n",
    "        label += \"I\"\n",
    "    return qi.Operator.from_label(label).data\n",
    "\n",
    "def cd(l,L):\n",
    "    return 1/2*(gx(l,L)+1j*gy(l,L))\n",
    "\n",
    "def c(l,L):\n",
    "    return 1/2*(gx(l,L)-1j*gy(l,L))"
   ]
  },
  {
   "cell_type": "code",
   "execution_count": 296,
   "metadata": {},
   "outputs": [],
   "source": [
    "def bkt(psi_a,U,psi_b):\n",
    "    return np.dot(np.conjugate(psi_a),np.dot(U,psi_b))\n",
    "\n",
    "def Mdot(Ol):\n",
    "    m = Ol[0]\n",
    "    for i in range(1,len(Ol)):\n",
    "        m = np.dot(Ol[i],m)\n",
    "    return m"
   ]
  },
  {
   "cell_type": "markdown",
   "metadata": {},
   "source": [
    "## Define the Hamiltonian\n",
    "\n",
    "$$ H = \\mu\\sum_{i=0}^N c^{\\dagger}_i c_i + t \\sum_{i=0}^{N-1} (c^{\\dagger}_ic_{i+1} + c^{\\dagger}_{i+1}c_i) + \\Delta \\sum_{i=0}^{N-1}(c^{\\dagger}_i c^{\\dagger}_{i+1} + c_{i+1}c_i) + U \\sum_{i=0}^{N-1} c^{\\dagger}_i c_i c^{\\dagger}_{i+1} c_{i+1} $$"
   ]
  },
  {
   "cell_type": "code",
   "execution_count": 297,
   "metadata": {},
   "outputs": [],
   "source": [
    "def H(mu,t,Delta,U,N):\n",
    "    hm = mu*np.sum([Mdot([cd(n,N),c(n,N)]) for n in range(0,N)], axis = 0)\n",
    "    ht = t*np.sum([Mdot([cd(n,N),c(n+1,N)]) + Mdot([cd(n+1,N),c(n,N)]) for n in range(0,N-1)], axis = 0)\n",
    "    hD = Delta*np.sum([Mdot([cd(n,N),cd(n+1,N)])+Mdot([c(n+1,N),c(n,N)]) for n in range(0,N-1)],axis = 0)\n",
    "    hU = U*np.sum([Mdot([cd(n,N),c(n,N),cd(n+1,N),c(n+1,N)]) for n in range(0,N-1)],axis = 0)\n",
    "    return hm + ht + hD + hU"
   ]
  },
  {
   "cell_type": "code",
   "execution_count": 298,
   "metadata": {},
   "outputs": [
    {
     "data": {
      "text/plain": [
       "array([ 0.3+0.j, -0.3+0.j,  0.3+0.j, -0.3+0.j])"
      ]
     },
     "execution_count": 298,
     "metadata": {},
     "output_type": "execute_result"
    }
   ],
   "source": [
    "(e,y) = lng.eig(H(0.0,0.3,0.3,0.0,2))\n",
    "psi = np.transpose(y)\n",
    "e"
   ]
  },
  {
   "cell_type": "markdown",
   "metadata": {},
   "source": [
    "## Define the Hamiltonian for two sites with Pauli operators\n",
    "\n",
    "$$ H2 = \\frac{\\mu}{2}(2I - Z_0 - Z_1) + \\frac{t}{2}(X_0 X_1 + Y_0 Y_1) + \\frac{\\Delta}{2} (X_0 X_1 - Y_0 Y_1) + \\frac{U}{4} (I - Z_0 - Z_1 + Z_0 Z_1) $$\n",
    "\n",
    "$$ H2 = \\frac{4\\mu+U}{4}I - \\frac{2\\mu+U}{4}(Z_0 + Z_1) + \\frac{t+\\Delta}{2}X_0 X_1 + \\frac{t-\\Delta}{2} Y_0 Y_1 + \\frac{U}{4}  Z_0 Z_1 $$"
   ]
  },
  {
   "cell_type": "code",
   "execution_count": 299,
   "metadata": {},
   "outputs": [],
   "source": [
    "def H2(mu,t,Delta,U):\n",
    "    h0 = (4*mu+U)/4 * I0(2)\n",
    "    hm = -(2*mu+U)/4 * (Z(0,2) + Z(1,2))\n",
    "    ht = (t+Delta)/2 * Mdot([X(0,2),X(1,2)])\n",
    "    hD = (t-Delta)/2 * Mdot([Y(0,2),Y(1,2)])\n",
    "    hU = U/4*Mdot([Z(0,2),Z(1,2)])\n",
    "    return h0 + hm + ht + hD + hU"
   ]
  },
  {
   "cell_type": "code",
   "execution_count": 300,
   "metadata": {},
   "outputs": [
    {
     "data": {
      "text/plain": [
       "1.1102230246251565e-16"
      ]
     },
     "execution_count": 300,
     "metadata": {},
     "output_type": "execute_result"
    }
   ],
   "source": [
    "np.amax(np.abs(H2(0.1,0.2,0.3,0.4) - H(0.1,0.2,0.3,0.4,2)))"
   ]
  },
  {
   "cell_type": "code",
   "execution_count": 301,
   "metadata": {},
   "outputs": [
    {
     "data": {
      "text/plain": [
       "array([-0.98477827+0.j,  2.28477827+0.j,  2.1       +0.j, -0.9       +0.j])"
      ]
     },
     "execution_count": 301,
     "metadata": {},
     "output_type": "execute_result"
    }
   ],
   "source": [
    "(e,y) = lng.eig(H2(0.6,1.5,1.5,0.1))\n",
    "psi = np.transpose(y)\n",
    "e"
   ]
  },
  {
   "cell_type": "markdown",
   "metadata": {},
   "source": [
    "## Building the resonance Hamiltonian\n",
    "\n",
    "$H = -\\frac{1}{2} Z_0 + \\epsilon_0 I + \\epsilon_0 Z_1 + H_2 - Z_1 H_2 +c_x X_0 X_1$"
   ]
  },
  {
   "cell_type": "code",
   "execution_count": 302,
   "metadata": {},
   "outputs": [],
   "source": [
    "L0 = int(np.log2(len(H2(0.0,0.0,0.0,0.0))))\n",
    "\n",
    "Hb =-1/2*Z(0,L0+2)\n",
    "\n",
    "def Hx(cx):\n",
    "    return cx*(Mdot([X(0,L0+2),X(1,L0+2)])) \n",
    "\n",
    "def HR(w,mu,t,Delta,U):\n",
    "    w0 = w+1\n",
    "    L = L0+1\n",
    "    return (w0*I0(L)+w0*Z(0,L)+np.kron(I0(1),H2(mu,t,Delta,U))-np.kron(Z(0,1),H2(mu,t,Delta,U)))/2\n",
    "\n",
    "def Hrt(cx,w,mu,t,Delta,U):\n",
    "    return Hb + Hx(cx) + np.kron(I0(1),HR(w,mu,t,Delta,U))\n",
    "\n",
    "Htst = Hrt(cx,w,mu,T,D,V)"
   ]
  },
  {
   "cell_type": "markdown",
   "metadata": {},
   "source": [
    "## Time evolution using the full exponential"
   ]
  },
  {
   "cell_type": "code",
   "execution_count": 303,
   "metadata": {},
   "outputs": [],
   "source": [
    "def U(cx,w,mu,T,Delta,U,t):\n",
    "    e,psi_d = lng.eig(Hrt(cx,w,mu,T,Delta,U))\n",
    "    psi = np.conjugate(np.transpose(psi_d))\n",
    "    eD = np.diag(e)\n",
    "    exp = np.exp(1j*e*t)\n",
    "    expD = np.diag(exp)\n",
    "    return Mdot([psi,expD,psi_d])\n",
    "\n",
    "Utst = U(cx,w,mu,T,D,V,t)"
   ]
  },
  {
   "cell_type": "code",
   "execution_count": 393,
   "metadata": {},
   "outputs": [
    {
     "data": {
      "text/plain": [
       "array([-1.87890244+0.j,  2.12890244+0.j,  7.1       +0.j, -6.9       +0.j])"
      ]
     },
     "execution_count": 393,
     "metadata": {},
     "output_type": "execute_result"
    }
   ],
   "source": [
    "mu = 0.1\n",
    "T = 7.0\n",
    "D = -2.0\n",
    "V = 0.05\n",
    "\n",
    "(e0,y) = lng.eig(H2(mu,T,D,V))\n",
    "psi = np.transpose(y)\n",
    "e0"
   ]
  },
  {
   "cell_type": "code",
   "execution_count": 394,
   "metadata": {},
   "outputs": [],
   "source": [
    "#psiA = qi.Statevector.from_label('0000').data\n",
    "psiA = np.sqrt(0.2)*qi.Statevector.from_label('00-+').data ++np.sqrt(0.7)*qi.Statevector.from_label('00+-').data + np.sqrt(0.3)*qi.Statevector.from_label('00++').data\n",
    "psiA = psiA/np.sqrt(bkt(psiA,I0(4),psiA))\n",
    "\n",
    "wl = [wi*0.1-10 for wi in range(0,300)]\n",
    "\n",
    "t = 200.0\n",
    "t = 5\n",
    "cx = 0.01\n",
    "Ns = 100\n",
    "pl = []\n",
    "for w in wl:\n",
    "    psiS = psiA\n",
    "    psiS = Mdot([U(cx,w,mu,T,D,V,t),psiS])\n",
    "    pw = bkt(psiS,Z(0,L0+2),psiS)\n",
    "\n",
    "    pl.append(pw)"
   ]
  },
  {
   "cell_type": "code",
   "execution_count": 395,
   "metadata": {},
   "outputs": [
    {
     "data": {
      "image/png": "[encoded data removed]",
      "text/plain": [
       "<Figure size 432x288 with 1 Axes>"
      ]
     },
     "metadata": {
      "needs_background": "light"
     },
     "output_type": "display_data"
    }
   ],
   "source": [
    "marker = [1 for i in e0]\n",
    "\n",
    "plt.plot(wl,pl)\n",
    "plt.scatter(e0,marker)\n",
    "plt.show()"
   ]
  },
  {
   "cell_type": "code",
   "execution_count": null,
   "metadata": {},
   "outputs": [],
   "source": []
  }
 ],
 "metadata": {
  "kernelspec": {
   "display_name": "Python [conda env:qiskit20_new]",
   "language": "python",
   "name": "conda-env-qiskit20_new-py"
  },
  "language_info": {
   "codemirror_mode": {
    "name": "ipython",
    "version": 3
   },
   "file_extension": ".py",
   "mimetype": "text/x-python",
   "name": "python",
   "nbconvert_exporter": "python",
   "pygments_lexer": "ipython3",
   "version": "3.8.5"
  }
 },
 "nbformat": 4,
 "nbformat_minor": 4
}
