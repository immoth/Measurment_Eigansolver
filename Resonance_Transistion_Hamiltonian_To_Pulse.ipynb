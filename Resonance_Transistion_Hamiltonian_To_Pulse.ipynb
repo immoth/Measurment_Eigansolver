{
 "cells": [
  {
   "cell_type": "code",
   "execution_count": 2,
   "metadata": {},
   "outputs": [],
   "source": [
    "from qiskit import quantum_info as qi\n",
    "import numpy as np\n",
    "import pandas as pd\n",
    "import scipy.linalg as lng\n",
    "import random as rnd\n",
    "import matplotlib.pyplot as plt\n",
    "pd.options.display.float_format = '{:,.1f}'.format"
   ]
  },
  {
   "cell_type": "code",
   "execution_count": 3,
   "metadata": {},
   "outputs": [],
   "source": [
    "def I0(L):\n",
    "    label = \"\"\n",
    "    for i in range(0,L):\n",
    "        label += \"I\"\n",
    "    return qi.Operator.from_label(label).data\n",
    "\n",
    "def X(l,L):\n",
    "    label = \"\"\n",
    "    for i in range(0,l):\n",
    "        label += \"I\"\n",
    "    label += \"X\"\n",
    "    for i in range(l+1,L):\n",
    "        label += \"I\"\n",
    "    return qi.Operator.from_label(label).data\n",
    "\n",
    "def Y(l,L):\n",
    "    label = \"\"\n",
    "    for i in range(0,l):\n",
    "        label += \"I\"\n",
    "    label += \"Y\"\n",
    "    for i in range(l+1,L):\n",
    "        label += \"I\"\n",
    "    return qi.Operator.from_label(label).data\n",
    "\n",
    "def Z(l,L):\n",
    "    label = \"\"\n",
    "    for i in range(0,l):\n",
    "        label += \"I\"\n",
    "    label += \"Z\"\n",
    "    for i in range(l+1,L):\n",
    "        label += \"I\"\n",
    "    return qi.Operator.from_label(label).data\n",
    "    \n",
    "def gx(l,L):\n",
    "    label = \"\"\n",
    "    for i in range(0,l):\n",
    "        label += \"Z\"\n",
    "    label += \"X\"\n",
    "    for i in range(l+1,L):\n",
    "        label += \"I\"\n",
    "    return qi.Operator.from_label(label).data\n",
    "\n",
    "def gy(l,L):\n",
    "    label = \"\"\n",
    "    for i in range(0,l):\n",
    "        label += \"Z\"\n",
    "    label += \"Y\"\n",
    "    for i in range(l+1,L):\n",
    "        label += \"I\"\n",
    "    return qi.Operator.from_label(label).data\n",
    "\n",
    "def cd(l,L):\n",
    "    return 1/2*(gx(l,L)+1j*gy(l,L))\n",
    "\n",
    "def c(l,L):\n",
    "    return 1/2*(gx(l,L)-1j*gy(l,L))"
   ]
  },
  {
   "cell_type": "code",
   "execution_count": 4,
   "metadata": {},
   "outputs": [],
   "source": [
    "def bkt(psi_a,U,psi_b):\n",
    "    return np.dot(np.conjugate(psi_a),np.dot(U,psi_b))\n",
    "\n",
    "def Mdot(Ol):\n",
    "    m = Ol[0]\n",
    "    for i in range(1,len(Ol)):\n",
    "        m = np.dot(Ol[i],m)\n",
    "    return m"
   ]
  },
  {
   "cell_type": "code",
   "execution_count": 5,
   "metadata": {},
   "outputs": [],
   "source": [
    "mu = 0.7\n",
    "\n",
    "H0 = mu*X(0,1)"
   ]
  },
  {
   "cell_type": "code",
   "execution_count": 6,
   "metadata": {},
   "outputs": [
    {
     "name": "stdout",
     "output_type": "stream",
     "text": [
      "         0        1\n",
      "0 0.0+0.0j 0.7+0.0j\n",
      "1 0.7+0.0j 0.0+0.0j\n",
      "[ 0.7+0.j -0.7+0.j]\n"
     ]
    },
    {
     "data": {
      "text/plain": [
       "array([ 0.70710678-0.j, -0.70710678+0.j])"
      ]
     },
     "execution_count": 6,
     "metadata": {},
     "output_type": "execute_result"
    }
   ],
   "source": [
    "print(pd.DataFrame(H0))\n",
    "e0,y0 = lng.eig(H0)\n",
    "psi0 = np.conjugate(np.transpose(y0))\n",
    "print(e0)\n",
    "psi0[1]"
   ]
  },
  {
   "cell_type": "code",
   "execution_count": 7,
   "metadata": {},
   "outputs": [],
   "source": [
    "L0 = int(np.log2(len(H0)))\n",
    "\n",
    "Hb =-1/2*Z(0,L0+2)\n",
    "\n",
    "def Hx(cx):\n",
    "    return cx*(Mdot([X(0,L0+2),X(1,L0+2)])) \n",
    "\n",
    "def HR(w):\n",
    "    w0 = w+1\n",
    "    L = L0+1\n",
    "    return (w0*I0(L)+w0*Z(0,L)+np.kron(I0(1),H0)-np.kron(Z(0,1),H0))/2\n",
    "\n",
    "def H(cx,w):\n",
    "    return Hb + Hx(cx) + np.kron(I0(1),HR(w))\n",
    "    "
   ]
  },
  {
   "cell_type": "markdown",
   "metadata": {},
   "source": [
    "## Using the full exponential"
   ]
  },
  {
   "cell_type": "code",
   "execution_count": 10,
   "metadata": {},
   "outputs": [],
   "source": [
    "def U(cx,w,t):\n",
    "    e,psi_d = lng.eig(H(cx,w))\n",
    "    psi = np.conjugate(np.transpose(psi_d))\n",
    "    eD = np.diag(e)\n",
    "    exp = np.exp(1j*e*t)\n",
    "    expD = np.diag(exp)\n",
    "    return Mdot([psi,expD,psi_d])"
   ]
  },
  {
   "cell_type": "code",
   "execution_count": 11,
   "metadata": {},
   "outputs": [],
   "source": [
    "psiA = qi.Statevector.from_label('000').data\n",
    "\n",
    "wl = [wi*0.01-1.5 for wi in range(0,300)]\n",
    "\n",
    "t = 200.0\n",
    "t=5\n",
    "cx = 0.01\n",
    "Ns = 100\n",
    "pl = []\n",
    "for w in wl:\n",
    "    psiS = psiA\n",
    "    psiS = Mdot([U(cx,w,t),psiS])\n",
    "    pw = bkt(psiS,Z(0,L0+2),psiS)\n",
    "\n",
    "    pl.append(pw)"
   ]
  },
  {
   "cell_type": "code",
   "execution_count": 12,
   "metadata": {},
   "outputs": [
    {
     "name": "stderr",
     "output_type": "stream",
     "text": [
      "C:\\Users\\jsten\\Anaconda3\\envs\\qiskit20_new\\lib\\site-packages\\numpy\\core\\_asarray.py:83: ComplexWarning: Casting complex values to real discards the imaginary part\n",
      "  return array(a, dtype, copy=False, order=order)\n",
      "C:\\Users\\jsten\\Anaconda3\\envs\\qiskit20_new\\lib\\site-packages\\numpy\\core\\_asarray.py:136: ComplexWarning: Casting complex values to real discards the imaginary part\n",
      "  return array(a, dtype, copy=False, order=order, subok=True)\n"
     ]
    },
    {
     "data": {
      "image/png": "[encoded data removed]",
      "text/plain": [
       "<Figure size 432x288 with 1 Axes>"
      ]
     },
     "metadata": {
      "needs_background": "light"
     },
     "output_type": "display_data"
    }
   ],
   "source": [
    "marker = [1 for i in e0]\n",
    "\n",
    "plt.plot(wl,pl)\n",
    "plt.scatter(e0,marker)\n",
    "plt.show()"
   ]
  },
  {
   "cell_type": "markdown",
   "metadata": {},
   "source": [
    "## Using broken up exponential to match the circuit"
   ]
  },
  {
   "cell_type": "markdown",
   "metadata": {},
   "source": [
    "$H = -\\frac{1}{2} Z_0 + \\epsilon_0 I + \\epsilon_0 Z_1 + H_0 - Z_1 H_0 +c_x X_0 X_1$\n",
    "\n",
    "$H_0 = X_2$\n",
    "\n",
    "$H = -\\frac{1}{2} Z_0 + \\frac{1}{2}\\epsilon_0 I + \\frac{1}{2}\\epsilon_0 Z_1 + \\frac{1}{2}X_2 - \\frac{1}{2}Z_1 X_2 +c_x X_0 X_1$\n",
    "\n",
    "$U(dt) = e^{i(-\\frac{1}{2} Z_0 + \\frac{1}{2}\\epsilon_0 I + \\frac{1}{2}\\epsilon_0 Z_1 + \\frac{1}{2}X_2 - \\frac{1}{2}Z_1 X_2 +c_x X_0 X_1)dt} \\approx e^{-i\\frac{1}{2}Z_0 dt}e^{i \\frac{1}{2}\\epsilon_0 dt}e^{i \\frac{1}{2}\\epsilon_0 Z_1 dt}e^{i\\frac{1}{2} X_2 dt}e^{-i\\frac{1}{2} Z_1 X_2 dt}e^{c_x X_0 X_1 dt}$\n",
    "\n",
    "or to second order trotterization\n",
    "\n",
    "$U(2dt) \\approx e^{-i\\frac{1}{2}Z_0 dt}e^{i \\frac{1}{2}\\epsilon_0 dt}e^{i \\frac{1}{2}\\epsilon_0 Z_1 dt}e^{i\\frac{1}{2} X_2 dt}e^{-i\\frac{1}{2} Z_1 X_2 dt}e^{c_x X_0 X_1 dt}   e^{c_x X_0 X_1 dt}e^{-i\\frac{1}{2} Z_1 X_2 dt}e^{i\\frac{1}{2} \\epsilon_0 Z_1 dt}e^{i\\frac{1}{2} X_2 dt}e^{i\\frac{1}{2} \\epsilon_0 dt}e^{-i\\frac{1}{2}Z_0 dt}$"
   ]
  },
  {
   "cell_type": "code",
   "execution_count": 12,
   "metadata": {},
   "outputs": [],
   "source": [
    "def UT(cx,w,dt):\n",
    "    L=L0+2\n",
    "    w0 = w+1\n",
    "    Ua = np.cos(-1/2*dt)*I0(L) + 1j*np.sin(-1/2*dt)*Z(0,L)\n",
    "    Ub = np.cos(1/2*w0*dt)*I0(L) + 1j*np.sin(1/2*w0*dt)*I0(L)\n",
    "    Uc = np.cos(1/2*w0*dt)*I0(L) + 1j*np.sin(1/2*w0*dt)*Z(1,L)\n",
    "    Ud = np.cos(1/2*mu*dt)*I0(L) + 1j*np.sin(1/2*mu*dt)*X(2,L)\n",
    "    Ue = np.cos(-1/2*mu*dt)*I0(L) + 1j*np.sin(-1/2*mu*dt)*Mdot([Z(1,L),X(2,L)])\n",
    "    Uf = np.cos(cx*dt)*I0(L) + 1j*np.sin(cx*dt)*Mdot([X(0,L),X(1,L)])\n",
    "    return Mdot([Ua,Ub,Uc,Ud,Ue,Uf,Uf,Ue,Ud,Uc,Ub,Ua])"
   ]
  },
  {
   "cell_type": "code",
   "execution_count": 13,
   "metadata": {
    "scrolled": true
   },
   "outputs": [
    {
     "name": "stdout",
     "output_type": "stream",
     "text": [
      "-1.5 (0.9453345489115937+0j)\n",
      "-1.47 (0.9370961382723878+0j)\n",
      "-1.44 (0.9284151385217031+0j)\n",
      "-1.41 (0.9193489524353071+0j)\n",
      "-1.38 (0.9099607309852336+0j)\n",
      "-1.35 (0.9003186732030068+0j)\n",
      "-1.32 (0.8904952485424824+0j)\n",
      "-1.29 (0.8805663516357369+0j)\n",
      "-1.26 (0.8706104003673247+0j)\n",
      "-1.23 (0.8607073890759928+0j)\n",
      "-1.2 (0.8509379094159223+0j)\n",
      "-1.17 (0.8413821519604875+0j)\n",
      "-1.1400000000000001 (0.8321189020015606+0j)\n",
      "-1.1099999999999999 (0.8232245431807587+0j)\n",
      "-1.08 (0.81477208258215+0j)\n",
      "-1.05 (0.8068302107176271+0j)\n",
      "-1.02 (0.7994624094491422+0j)\n",
      "-0.99 (0.792726120320184+0j)\n",
      "-0.96 (0.7866719850197001+0j)\n",
      "-0.93 (0.7813431687852329+0j)\n",
      "-0.9 (0.7767747764801074+0j)\n",
      "-0.87 (0.7729933698666881+0j)\n",
      "-0.8400000000000001 (0.7700165932605574+0j)\n",
      "-0.81 (0.7678529133069567+0j)\n",
      "-0.78 (0.7665014770912548+0j)\n",
      "-0.75 (0.7659520911999678+0j)\n",
      "-0.72 (0.7661853227109039+0j)\n",
      "-0.6900000000000001 (0.767172721432034+0j)\n",
      "-0.66 (0.7688771610530443+0j)\n",
      "-0.63 (0.7712532952429659+0j)\n",
      "-0.6000000000000001 (0.7742481231457323+0j)\n",
      "-0.5700000000000001 (0.7778016572146095+0j)\n",
      "-0.54 (0.7818476849073286+0j)\n",
      "-0.51 (0.7863146144569739+0j)\n",
      "-0.48 (0.7911263937569343+0j)\n",
      "-0.44999999999999996 (0.7962034903690728+0j)\n",
      "-0.41999999999999993 (0.8014639197964425+0j)\n",
      "-0.3900000000000001 (0.8068243084685767+0j)\n",
      "-0.3600000000000001 (0.8122009773780506+0j)\n",
      "-0.33000000000000007 (0.8175110319895609+0j)\n",
      "-0.30000000000000004 (0.8226734439213537+0j)\n",
      "-0.27 (0.8276101099761274+0j)\n",
      "-0.24 (0.8322468743735087+0j)\n",
      "-0.20999999999999996 (0.8365145005050351+0j)\n",
      "-0.18000000000000016 (0.8403495791898664+0j)\n",
      "-0.15000000000000013 (0.843695361245361+0j)\n",
      "-0.1200000000000001 (0.8465025031906837+0j)\n",
      "-0.09000000000000008 (0.8487297160594571+0j)\n",
      "-0.06000000000000005 (0.8503443085936704+0j)\n",
      "-0.030000000000000027 (0.851322617507412+0j)\n",
      "0.0 (0.8516503190265271+0j)\n",
      "0.030000000000000027 (0.8513226175074162+0j)\n",
      "0.06000000000000005 (0.850344308593665+0j)\n",
      "0.08999999999999986 (0.848729716059456+0j)\n",
      "0.11999999999999988 (0.8465025031906868+0j)\n",
      "0.1499999999999999 (0.8436953612453626+0j)\n",
      "0.17999999999999994 (0.8403495791898675+0j)\n",
      "0.20999999999999996 (0.8365145005050358+0j)\n",
      "0.24 (0.8322468743735094+0j)\n",
      "0.27 (0.827610109976129+0j)\n",
      "0.2999999999999998 (0.8226734439213528+0j)\n",
      "0.32999999999999985 (0.8175110319895629+0j)\n",
      "0.3599999999999999 (0.812200977378047+0j)\n",
      "0.3899999999999999 (0.8068243084685773+0j)\n",
      "0.41999999999999993 (0.8014639197964454+0j)\n",
      "0.44999999999999996 (0.7962034903690727+0j)\n",
      "0.48 (0.7911263937569339+0j)\n",
      "0.5099999999999998 (0.7863146144569765+0j)\n",
      "0.54 (0.7818476849073336+0j)\n",
      "0.5699999999999998 (0.777801657214606+0j)\n",
      "0.6000000000000001 (0.7742481231457301+0j)\n",
      "0.6299999999999999 (0.7712532952429614+0j)\n",
      "0.6600000000000001 (0.7688771610530478+0j)\n",
      "0.69 (0.7671727214320372+0j)\n",
      "0.7199999999999998 (0.7661853227109057+0j)\n",
      "0.75 (0.7659520911999678+0j)\n",
      "0.7799999999999998 (0.7665014770912517+0j)\n",
      "0.81 (0.7678529133069547+0j)\n",
      "0.8399999999999999 (0.7700165932605573+0j)\n",
      "0.8700000000000001 (0.7729933698666872+0j)\n",
      "0.8999999999999999 (0.776774776480105+0j)\n",
      "0.9299999999999997 (0.7813431687852317+0j)\n",
      "0.96 (0.7866719850197005+0j)\n",
      "0.9899999999999998 (0.7927261203201871+0j)\n",
      "1.02 (0.7994624094491415+0j)\n",
      "1.0499999999999998 (0.8068302107176248+0j)\n",
      "1.08 (0.8147720825821511+0j)\n",
      "1.1099999999999999 (0.8232245431807612+0j)\n",
      "1.1399999999999997 (0.8321189020015586+0j)\n",
      "1.17 (0.8413821519604886+0j)\n",
      "1.1999999999999997 (0.8509379094159198+0j)\n",
      "1.23 (0.8607073890759884+0j)\n",
      "1.2599999999999998 (0.8706104003673255+0j)\n",
      "1.29 (0.8805663516357389+0j)\n",
      "1.3199999999999998 (0.8904952485424817+0j)\n",
      "1.35 (0.9003186732030078+0j)\n",
      "1.38 (0.9099607309852278+0j)\n",
      "1.4099999999999997 (0.9193489524353078+0j)\n",
      "1.44 (0.9284151385217051+0j)\n",
      "1.4699999999999998 (0.9370961382723892+0j)\n"
     ]
    }
   ],
   "source": [
    "psiA = qi.Statevector.from_label('000').data\n",
    "\n",
    "wl = [wi*0.03-1.5 for wi in range(0,100)]\n",
    "\n",
    "cx = 0.1\n",
    "#t = np.pi/(2*cx)\n",
    "t = 5\n",
    "Ns = 100\n",
    "dt = 1.0\n",
    "pl = []\n",
    "for w in wl:\n",
    "    psiS = psiA\n",
    "    for ti in range(0,int(t/dt)):\n",
    "        psiS = Mdot([UT(cx,w,dt/2),psiS])\n",
    "    pw = bkt(psiS,Z(0,L0+2),psiS)\n",
    "    print(w,pw)\n",
    "\n",
    "    pl.append(pw)"
   ]
  },
  {
   "cell_type": "code",
   "execution_count": 14,
   "metadata": {},
   "outputs": [
    {
     "data": {
      "image/png": "[encoded data removed]",
      "text/plain": [
       "<Figure size 432x288 with 1 Axes>"
      ]
     },
     "metadata": {
      "needs_background": "light"
     },
     "output_type": "display_data"
    }
   ],
   "source": [
    "marker = [1 for i in e0]\n",
    "\n",
    "plt.plot(wl,pl)\n",
    "plt.scatter(e0,marker)\n",
    "plt.show()"
   ]
  },
  {
   "cell_type": "markdown",
   "metadata": {},
   "source": [
    "## Using ZX gates to match pulse"
   ]
  },
  {
   "cell_type": "code",
   "execution_count": 42,
   "metadata": {},
   "outputs": [
    {
     "data": {
      "text/plain": [
       "1.1102230246251565e-16"
      ]
     },
     "execution_count": 42,
     "metadata": {},
     "output_type": "execute_result"
    }
   ],
   "source": [
    "def Rz(phi,l,L):\n",
    "    return np.cos(phi/2)*I0(L) + 1j*np.sin(phi/2)*Z(l,L)\n",
    "\n",
    "def Rx(phi,l,L):\n",
    "    return np.cos(phi/2)*I0(L) + 1j*np.sin(phi/2)*X(l,L)\n",
    "\n",
    "def Ry(phi,l,L):\n",
    "    return np.cos(phi/2)*I0(L) + 1j*np.sin(phi/2)*Y(l,L)\n",
    "\n",
    "def Rzx(phi,l,ll,L):\n",
    "    return np.cos(phi/2)*I0(L) + 1j*np.sin(phi/2)*Mdot([Z(l,L),X(ll,L)])\n",
    "\n",
    "def Rxx(phi,l,ll,L):\n",
    "    return np.cos(phi/2)*I0(L) + 1j*np.sin(phi/2)*Mdot([X(l,L),X(ll,L)])\n",
    "\n",
    "np.amax(np.abs(Mdot([Ry(np.pi/2,1,3),Rzx(0.5,1,2,3),Ry(-np.pi/2,1,3)])-Rxx(0.5,1,2,3)))"
   ]
  },
  {
   "cell_type": "code",
   "execution_count": 44,
   "metadata": {},
   "outputs": [
    {
     "data": {
      "text/plain": [
       "5.661048867003676e-16"
      ]
     },
     "execution_count": 44,
     "metadata": {},
     "output_type": "execute_result"
    }
   ],
   "source": [
    "def UP(cx,w,dt):\n",
    "    L=L0+2\n",
    "    w0 = w+1\n",
    "    Ua = Rz(-dt,0,L)\n",
    "    Uc = Rz(w0*dt,1,L)\n",
    "    Ud = Rx(mu*dt,2,L)\n",
    "    Ue = Rzx(-mu*dt,1,2,L)\n",
    "    Uf = Mdot([Ry(np.pi/2,0,L),Rzx(2*cx*dt,0,1,L),Ry(-np.pi/2,0,L)])\n",
    "    return Mdot([Ua,Uc,Ud,Ue,Uf,Uf,Ue,Ud,Uc,Ua])\n",
    "\n",
    "np.amax(np.abs(UT(cx,w,dt)-np.exp(1j*(w+1)*dt)*UP(cx,w,dt)))"
   ]
  },
  {
   "cell_type": "code",
   "execution_count": 45,
   "metadata": {
    "scrolled": true
   },
   "outputs": [
    {
     "name": "stdout",
     "output_type": "stream",
     "text": [
      "-1.5 (0.9453345489115932+0j)\n",
      "-1.47 (0.9370961382723895+0j)\n",
      "-1.44 (0.9284151385217055+0j)\n",
      "-1.41 (0.9193489524353078+0j)\n",
      "-1.38 (0.909960730985235+0j)\n",
      "-1.35 (0.9003186732030095+0j)\n",
      "-1.32 (0.8904952485424831+0j)\n",
      "-1.29 (0.8805663516357382+0j)\n",
      "-1.26 (0.8706104003673271+0j)\n",
      "-1.23 (0.8607073890759946+0j)\n",
      "-1.2 (0.8509379094159246+0j)\n",
      "-1.17 (0.8413821519604903+0j)\n",
      "-1.1400000000000001 (0.832118902001561+0j)\n",
      "-1.1099999999999999 (0.82322454318076+0j)\n",
      "-1.08 (0.8147720825821525+0j)\n",
      "-1.05 (0.8068302107176263+0j)\n",
      "-1.02 (0.7994624094491443+0j)\n",
      "-0.99 (0.7927261203201865+0j)\n",
      "-0.96 (0.7866719850197049+0j)\n",
      "-0.93 (0.781343168785233+0j)\n",
      "-0.9 (0.7767747764801063+0j)\n",
      "-0.87 (0.7729933698666898+0j)\n",
      "-0.8400000000000001 (0.7700165932605573+0j)\n",
      "-0.81 (0.7678529133069569+0j)\n",
      "-0.78 (0.7665014770912542+0j)\n",
      "-0.75 (0.7659520911999701+0j)\n",
      "-0.72 (0.7661853227109071+0j)\n",
      "-0.6900000000000001 (0.7671727214320381+0j)\n",
      "-0.66 (0.7688771610530454+0j)\n",
      "-0.63 (0.7712532952429654+0j)\n",
      "-0.6000000000000001 (0.7742481231457305+0j)\n",
      "-0.5700000000000001 (0.7778016572146074+0j)\n",
      "-0.54 (0.781847684907333+0j)\n",
      "-0.51 (0.7863146144569753+0j)\n",
      "-0.48 (0.7911263937569355+0j)\n",
      "-0.44999999999999996 (0.7962034903690762+0j)\n",
      "-0.41999999999999993 (0.8014639197964489+0j)\n",
      "-0.3900000000000001 (0.806824308468578+0j)\n",
      "-0.3600000000000001 (0.812200977378051+0j)\n",
      "-0.33000000000000007 (0.8175110319895662+0j)\n",
      "-0.30000000000000004 (0.8226734439213534+0j)\n",
      "-0.27 (0.8276101099761306+0j)\n",
      "-0.24 (0.8322468743735112+0j)\n",
      "-0.20999999999999996 (0.8365145005050377+0j)\n",
      "-0.18000000000000016 (0.84034957918987+0j)\n",
      "-0.15000000000000013 (0.8436953612453671+0j)\n",
      "-0.1200000000000001 (0.8465025031906843+0j)\n",
      "-0.09000000000000008 (0.8487297160594589+0j)\n",
      "-0.06000000000000005 (0.8503443085936706+0j)\n",
      "-0.030000000000000027 (0.8513226175074176+0j)\n",
      "0.0 (0.8516503190265288+0j)\n",
      "0.030000000000000027 (0.8513226175074181+0j)\n",
      "0.06000000000000005 (0.8503443085936686+0j)\n",
      "0.08999999999999986 (0.8487297160594595+0j)\n",
      "0.11999999999999988 (0.846502503190685+0j)\n",
      "0.1499999999999999 (0.8436953612453658+0j)\n",
      "0.17999999999999994 (0.8403495791898707+0j)\n",
      "0.20999999999999996 (0.8365145005050385+0j)\n",
      "0.24 (0.8322468743735112+0j)\n",
      "0.27 (0.8276101099761305+0j)\n",
      "0.2999999999999998 (0.8226734439213541+0j)\n",
      "0.32999999999999985 (0.817511031989566+0j)\n",
      "0.3599999999999999 (0.8122009773780504+0j)\n",
      "0.3899999999999999 (0.8068243084685797+0j)\n",
      "0.41999999999999993 (0.8014639197964493+0j)\n",
      "0.44999999999999996 (0.7962034903690757+0j)\n",
      "0.48 (0.7911263937569354+0j)\n",
      "0.5099999999999998 (0.7863146144569757+0j)\n",
      "0.54 (0.7818476849073335+0j)\n",
      "0.5699999999999998 (0.7778016572146058+0j)\n",
      "0.6000000000000001 (0.7742481231457303+0j)\n",
      "0.6299999999999999 (0.7712532952429648+0j)\n",
      "0.6600000000000001 (0.7688771610530464+0j)\n",
      "0.69 (0.7671727214320365+0j)\n",
      "0.7199999999999998 (0.766185322710907+0j)\n",
      "0.75 (0.7659520911999703+0j)\n",
      "0.7799999999999998 (0.7665014770912544+0j)\n",
      "0.81 (0.7678529133069573+0j)\n",
      "0.8399999999999999 (0.7700165932605563+0j)\n",
      "0.8700000000000001 (0.7729933698666893+0j)\n",
      "0.8999999999999999 (0.7767747764801051+0j)\n",
      "0.9299999999999997 (0.7813431687852341+0j)\n",
      "0.96 (0.7866719850197039+0j)\n",
      "0.9899999999999998 (0.7927261203201861+0j)\n",
      "1.02 (0.7994624094491443+0j)\n",
      "1.0499999999999998 (0.8068302107176267+0j)\n",
      "1.08 (0.8147720825821549+0j)\n",
      "1.1099999999999999 (0.8232245431807593+0j)\n",
      "1.1399999999999997 (0.832118902001561+0j)\n",
      "1.17 (0.8413821519604914+0j)\n",
      "1.1999999999999997 (0.8509379094159234+0j)\n",
      "1.23 (0.8607073890759926+0j)\n",
      "1.2599999999999998 (0.8706104003673251+0j)\n",
      "1.29 (0.8805663516357396+0j)\n",
      "1.3199999999999998 (0.8904952485424849+0j)\n",
      "1.35 (0.9003186732030093+0j)\n",
      "1.38 (0.9099607309852331+0j)\n",
      "1.4099999999999997 (0.9193489524353089+0j)\n",
      "1.44 (0.9284151385217063+0j)\n",
      "1.4699999999999998 (0.9370961382723902+0j)\n"
     ]
    }
   ],
   "source": [
    "psiA = np.sqrt(0.2)*qi.Statevector.from_label('000').data\n",
    "psiA = psiA/np.sqrt(bkt(psiA,I0(L0+2),psiA))\n",
    "wl = [wi*0.03-1.5 for wi in range(0,100)]\n",
    "\n",
    "cx = 0.1\n",
    "#t = np.pi/(2*cx)\n",
    "t = 5\n",
    "Ns = 100\n",
    "#dt = 0.1\n",
    "dt = 1.0\n",
    "pl = []\n",
    "for w in wl:\n",
    "    psiS = psiA\n",
    "    for ti in range(0,int(t/dt)):\n",
    "        psiS = Mdot([UP(cx,w,dt/2),psiS])\n",
    "    pw = bkt(psiS,Z(0,L0+2),psiS)\n",
    "    print(w,pw)\n",
    "\n",
    "    pl.append(pw)"
   ]
  },
  {
   "cell_type": "code",
   "execution_count": 46,
   "metadata": {},
   "outputs": [
    {
     "name": "stderr",
     "output_type": "stream",
     "text": [
      "C:\\Users\\jsten\\Anaconda3\\envs\\qiskit20_new\\lib\\site-packages\\numpy\\core\\_asarray.py:83: ComplexWarning: Casting complex values to real discards the imaginary part\n",
      "  return array(a, dtype, copy=False, order=order)\n",
      "C:\\Users\\jsten\\Anaconda3\\envs\\qiskit20_new\\lib\\site-packages\\numpy\\core\\_asarray.py:136: ComplexWarning: Casting complex values to real discards the imaginary part\n",
      "  return array(a, dtype, copy=False, order=order, subok=True)\n"
     ]
    },
    {
     "data": {
      "image/png": "[encoded data removed]",
      "text/plain": [
       "<Figure size 432x288 with 1 Axes>"
      ]
     },
     "metadata": {
      "needs_background": "light"
     },
     "output_type": "display_data"
    }
   ],
   "source": [
    "marker = [1 for i in e0]\n",
    "\n",
    "plt.plot(wl,pl)\n",
    "plt.scatter(e0,marker)\n",
    "plt.show()"
   ]
  },
  {
   "cell_type": "code",
   "execution_count": null,
   "metadata": {},
   "outputs": [],
   "source": []
  }
 ],
 "metadata": {
  "kernelspec": {
   "display_name": "Python [conda env:qiskit20_new]",
   "language": "python",
   "name": "conda-env-qiskit20_new-py"
  },
  "language_info": {
   "codemirror_mode": {
    "name": "ipython",
    "version": 3
   },
   "file_extension": ".py",
   "mimetype": "text/x-python",
   "name": "python",
   "nbconvert_exporter": "python",
   "pygments_lexer": "ipython3",
   "version": "3.8.5"
  }
 },
 "nbformat": 4,
 "nbformat_minor": 4
}
