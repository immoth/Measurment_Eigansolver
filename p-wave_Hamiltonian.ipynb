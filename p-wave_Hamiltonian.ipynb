{
 "cells": [
  {
   "cell_type": "code",
   "execution_count": 747,
   "metadata": {},
   "outputs": [],
   "source": [
    "from qiskit import quantum_info as qi\n",
    "import numpy as np\n",
    "import pandas as pd\n",
    "import scipy.linalg as lng\n",
    "import random as rnd\n",
    "import matplotlib.pyplot as plt\n",
    "pd.options.display.float_format = '{:,.1f}'.format"
   ]
  },
  {
   "cell_type": "code",
   "execution_count": 748,
   "metadata": {},
   "outputs": [],
   "source": [
    "def I0(L):\n",
    "    label = \"\"\n",
    "    for i in range(0,L):\n",
    "        label += \"I\"\n",
    "    return qi.Operator.from_label(label).data\n",
    "\n",
    "def X(l,L):\n",
    "    label = \"\"\n",
    "    for i in range(0,l):\n",
    "        label += \"I\"\n",
    "    label += \"X\"\n",
    "    for i in range(l+1,L):\n",
    "        label += \"I\"\n",
    "    return qi.Operator.from_label(label).data\n",
    "\n",
    "def Y(l,L):\n",
    "    label = \"\"\n",
    "    for i in range(0,l):\n",
    "        label += \"I\"\n",
    "    label += \"Y\"\n",
    "    for i in range(l+1,L):\n",
    "        label += \"I\"\n",
    "    return qi.Operator.from_label(label).data\n",
    "\n",
    "def Z(l,L):\n",
    "    label = \"\"\n",
    "    for i in range(0,l):\n",
    "        label += \"I\"\n",
    "    label += \"Z\"\n",
    "    for i in range(l+1,L):\n",
    "        label += \"I\"\n",
    "    return qi.Operator.from_label(label).data\n",
    "    \n",
    "def gx(l,L):\n",
    "    label = \"\"\n",
    "    for i in range(0,l):\n",
    "        label += \"Z\"\n",
    "    label += \"X\"\n",
    "    for i in range(l+1,L):\n",
    "        label += \"I\"\n",
    "    return qi.Operator.from_label(label).data\n",
    "\n",
    "def gy(l,L):\n",
    "    label = \"\"\n",
    "    for i in range(0,l):\n",
    "        label += \"Z\"\n",
    "    label += \"Y\"\n",
    "    for i in range(l+1,L):\n",
    "        label += \"I\"\n",
    "    return qi.Operator.from_label(label).data\n",
    "\n",
    "def cd(l,L):\n",
    "    return 1/2*(gx(l,L)+1j*gy(l,L))\n",
    "\n",
    "def c(l,L):\n",
    "    return 1/2*(gx(l,L)-1j*gy(l,L))"
   ]
  },
  {
   "cell_type": "code",
   "execution_count": 749,
   "metadata": {},
   "outputs": [],
   "source": [
    "def bkt(psi_a,U,psi_b):\n",
    "    return np.dot(np.conjugate(psi_a),np.dot(U,psi_b))\n",
    "\n",
    "def Mdot(Ol):\n",
    "    m = Ol[0]\n",
    "    for i in range(1,len(Ol)):\n",
    "        m = np.dot(Ol[i],m)\n",
    "    return m"
   ]
  },
  {
   "cell_type": "markdown",
   "metadata": {},
   "source": [
    "## Define the Hamiltonian\n",
    "\n",
    "$$ H = \\mu\\sum_{i=0}^N c^{\\dagger}_i c_i + t \\sum_{i=0}^{N-1} (c^{\\dagger}_ic_{i+1} + c^{\\dagger}_{i+1}c_i) + \\Delta \\sum_{i=0}^{N-1}(c^{\\dagger}_i c^{\\dagger}_{i+1} + c_{i+1}c_i) + U \\sum_{i=0}^{N-1} c^{\\dagger}_i c_i c^{\\dagger}_{i+1} c_{i+1} $$"
   ]
  },
  {
   "cell_type": "code",
   "execution_count": 750,
   "metadata": {},
   "outputs": [],
   "source": [
    "def H(mu,t,Delta,U,N):\n",
    "    hm = mu*np.sum([Mdot([cd(n,N),c(n,N)]) for n in range(0,N)], axis = 0)\n",
    "    ht = t*np.sum([Mdot([cd(n,N),c(n+1,N)]) + Mdot([cd(n+1,N),c(n,N)]) for n in range(0,N-1)], axis = 0)\n",
    "    hD = Delta*np.sum([Mdot([cd(n,N),cd(n+1,N)])+Mdot([c(n+1,N),c(n,N)]) for n in range(0,N-1)],axis = 0)\n",
    "    hU = U*np.sum([Mdot([cd(n,N),c(n,N),cd(n+1,N),c(n+1,N)]) for n in range(0,N-1)],axis = 0)\n",
    "    return hm + ht + hD + hU"
   ]
  },
  {
   "cell_type": "code",
   "execution_count": 751,
   "metadata": {},
   "outputs": [
    {
     "data": {
      "text/plain": [
       "array([ 0.3+0.j, -0.3+0.j,  0.3+0.j, -0.3+0.j])"
      ]
     },
     "execution_count": 751,
     "metadata": {},
     "output_type": "execute_result"
    }
   ],
   "source": [
    "(e,y) = lng.eig(H(0.0,0.3,0.3,0.0,2))\n",
    "psi = np.transpose(y)\n",
    "e"
   ]
  },
  {
   "cell_type": "markdown",
   "metadata": {},
   "source": [
    "## Define the Hamiltonian for two sites with Pauli operators\n",
    "\n",
    "$$ H2 = \\frac{\\mu}{2}(2I - Z_0 - Z_1) + \\frac{t}{2}(X_0 X_1 + Y_0 Y_1) + \\frac{\\Delta}{2} (X_0 X_1 - Y_0 Y_1) + \\frac{U}{4} (I - Z_0 - Z_1 + Z_0 Z_1) $$\n",
    "\n",
    "$$ H2 = \\frac{4\\mu+U}{4}I - \\frac{2\\mu+U}{4}(Z_0 + Z_1) + \\frac{t+\\Delta}{2}X_0 X_1 + \\frac{t-\\Delta}{2} Y_0 Y_1 + \\frac{U}{4}  Z_0 Z_1 $$"
   ]
  },
  {
   "cell_type": "code",
   "execution_count": 752,
   "metadata": {},
   "outputs": [],
   "source": [
    "def H2(mu,t,Delta,V):\n",
    "    h0 = (4*mu+V)/4 * I0(2)\n",
    "    hm = -(2*mu+V)/4 * (Z(0,2) + Z(1,2))\n",
    "    ht = (t+Delta)/2 * Mdot([X(0,2),X(1,2)])\n",
    "    hD = (t-Delta)/2 * Mdot([Y(0,2),Y(1,2)])\n",
    "    hU = V/4*Mdot([Z(0,2),Z(1,2)])\n",
    "    return h0 + hm + ht + hD + hU"
   ]
  },
  {
   "cell_type": "code",
   "execution_count": 753,
   "metadata": {},
   "outputs": [
    {
     "data": {
      "text/plain": [
       "1.1102230246251565e-16"
      ]
     },
     "execution_count": 753,
     "metadata": {},
     "output_type": "execute_result"
    }
   ],
   "source": [
    "np.amax(np.abs(H2(0.1,0.2,0.3,0.4) - H(0.1,0.2,0.3,0.4,2)))"
   ]
  },
  {
   "cell_type": "code",
   "execution_count": 754,
   "metadata": {},
   "outputs": [
    {
     "data": {
      "text/plain": [
       "array([-0.98477827+0.j,  2.28477827+0.j,  2.1       +0.j, -0.9       +0.j])"
      ]
     },
     "execution_count": 754,
     "metadata": {},
     "output_type": "execute_result"
    }
   ],
   "source": [
    "(e,y) = lng.eig(H2(0.6,1.5,1.5,0.1))\n",
    "psi = np.transpose(y)\n",
    "e"
   ]
  },
  {
   "cell_type": "markdown",
   "metadata": {},
   "source": [
    "## Building the resonance Hamiltonian\n",
    "\n",
    "$H = -\\frac{1}{2} Z_0 + \\epsilon_0 I + \\epsilon_0 Z_1 + H_2 - Z_1 H_2 +c_x X_0 X_1$"
   ]
  },
  {
   "cell_type": "code",
   "execution_count": 755,
   "metadata": {},
   "outputs": [],
   "source": [
    "L0 = int(np.log2(len(H2(0.0,0.0,0.0,0.0))))\n",
    "\n",
    "Hb =-1/2*Z(0,L0+2)\n",
    "\n",
    "def Hx(cx):\n",
    "    return cx*(Mdot([X(0,L0+2),X(1,L0+2)])) \n",
    "\n",
    "def HR(w,mu,t,Delta,U):\n",
    "    w0 = w+1\n",
    "    L = L0+1\n",
    "    return (w0*I0(L)+w0*Z(0,L)+np.kron(I0(1),H2(mu,t,Delta,U))-np.kron(Z(0,1),H2(mu,t,Delta,U)))/2\n",
    "\n",
    "def Hrt(cx,w,mu,t,Delta,U):\n",
    "    return Hb + Hx(cx) + np.kron(I0(1),HR(w,mu,t,Delta,U))\n",
    "\n",
    "Htst = Hrt(cx,w,mu,T,D,V)"
   ]
  },
  {
   "cell_type": "markdown",
   "metadata": {},
   "source": [
    "## Time evolution using the full exponential"
   ]
  },
  {
   "cell_type": "code",
   "execution_count": 756,
   "metadata": {},
   "outputs": [],
   "source": [
    "def U(cx,w,mu,T,Delta,U,t):\n",
    "    e,psi_d = lng.eig(Hrt(cx,w,mu,T,Delta,U))\n",
    "    psi = np.conjugate(np.transpose(psi_d))\n",
    "    eD = np.diag(e)\n",
    "    exp = np.exp(1j*e*t)\n",
    "    expD = np.diag(exp)\n",
    "    return Mdot([psi,expD,psi_d])\n",
    "\n",
    "Utst = U(cx,w,mu,T,D,V,t)"
   ]
  },
  {
   "cell_type": "code",
   "execution_count": 757,
   "metadata": {},
   "outputs": [
    {
     "data": {
      "text/plain": [
       "array([-1.87890244+0.j,  2.12890244+0.j,  7.1       +0.j, -6.9       +0.j])"
      ]
     },
     "execution_count": 757,
     "metadata": {},
     "output_type": "execute_result"
    }
   ],
   "source": [
    "mu = 0.1\n",
    "T = 7.0\n",
    "D = -2.0\n",
    "V = 0.05\n",
    "\n",
    "(e0,y) = lng.eig(H2(mu,T,D,V))\n",
    "psi = np.transpose(y)\n",
    "e0"
   ]
  },
  {
   "cell_type": "code",
   "execution_count": 768,
   "metadata": {},
   "outputs": [],
   "source": [
    "#psiA = qi.Statevector.from_label('0000').data\n",
    "psiA = np.sqrt(0.2)*qi.Statevector.from_label('00-+').data ++np.sqrt(0.7)*qi.Statevector.from_label('00+-').data + np.sqrt(0.3)*qi.Statevector.from_label('00++').data\n",
    "psiA = psiA/np.sqrt(bkt(psiA,I0(4),psiA))\n",
    "\n",
    "wl = [wi*0.1-10 for wi in range(0,200)]\n",
    "\n",
    "t = 200.0\n",
    "t = 5\n",
    "cx = 0.2\n",
    "Ns = 100\n",
    "pl = []\n",
    "for w in wl:\n",
    "    psiS = psiA\n",
    "    psiS = Mdot([U(cx,w,mu,T,D,V,t),psiS])\n",
    "    pw = bkt(psiS,Z(0,L0+2),psiS)\n",
    "\n",
    "    pl.append(pw)"
   ]
  },
  {
   "cell_type": "code",
   "execution_count": 769,
   "metadata": {},
   "outputs": [
    {
     "data": {
      "image/png": "[encoded data removed]",
      "text/plain": [
       "<Figure size 432x288 with 1 Axes>"
      ]
     },
     "metadata": {
      "needs_background": "light"
     },
     "output_type": "display_data"
    }
   ],
   "source": [
    "marker = [1 for i in e0]\n",
    "\n",
    "plt.plot(wl,pl)\n",
    "plt.scatter(e0,marker)\n",
    "plt.show()"
   ]
  },
  {
   "cell_type": "markdown",
   "metadata": {},
   "source": [
    "## Using broken up exponential to match the circuit\n",
    "\n",
    "$Hrt = -\\frac{1}{2} Z_0 + \\frac{1}{2}(\\epsilon_0 I + \\epsilon_0 Z_1 + H_2 - Z_1 H_2) +c_x X_0 X_1$\n",
    "\n",
    "$H_2 = \\frac{4\\mu+U}{4}I - \\frac{2\\mu+U}{4}(Z_2 + Z_3) + \\frac{t+\\Delta}{2}X_2 X_3 + \\frac{t-\\Delta}{2} Y_2 Y_3 + \\frac{U}{4}  Z_2 Z_3$\n",
    "\n",
    "$Hrt = -\\frac{1}{2} Z_0 + \\frac{\\epsilon_0}{2} I + \\frac{\\epsilon_0}{2} Z_1  + c_x X_0 X_1 + \\frac{4\\mu+U}{8}I - \\frac{2\\mu+U}{8}(Z_2 + Z_3) + \\frac{t+\\Delta}{4}X_2 X_3 + \\frac{t-\\Delta}{4} Y_2 Y_3 + \\frac{U}{8}  Z_2 Z_3 -  (\\frac{4\\mu+U}{8}Z_1 - \\frac{2\\mu+U}{8}(Z_1 Z_2 + Z_1 Z_3) + \\frac{t+\\Delta}{4}Z_1 X_2 X_3 + \\frac{t-\\Delta}{4} Z_1 Y_2 Y_3 + \\frac{U}{8}  Z_1 Z_2 Z_3)$\n",
    "\n",
    "define: \n",
    "\n",
    "$E = \\frac{4\\mu+U}{8}$,\n",
    "$\\bar{\\epsilon_0} = \\frac{\\epsilon_0}{2}$, \n",
    "$\\bar{\\mu} = \\frac{2\\mu+U}{8}$, \n",
    "\n",
    "$x = \\frac{t+\\Delta}{4}$, \n",
    "$y = \\frac{t-\\Delta}{4}$, \n",
    "$z = \\frac{U}{8}$\n",
    "\n",
    "$Hrt = (\\bar{\\epsilon_0}+E) I  - \\frac{1}{2} Z_0 + (\\bar{\\epsilon_0}-E) Z_1  - \\bar{\\mu} Z_2 - \\bar{\\mu} Z_3  + c_x X_0 X_1  + x X_2 X_3 + y Y_2 Y_3 + z Z_2 Z_3  + \\bar{\\mu} Z_1 Z_2 +\\bar{\\mu} Z_1 Z_3 - x Z_1 X_2 X_3 - y Z_1 Y_2 Y_3 - z  Z_1 Z_2 Z_3$"
   ]
  },
  {
   "cell_type": "markdown",
   "metadata": {},
   "source": [
    "\\begin{equation}\n",
    "\\begin{split}\n",
    "U(dt) \\approx & e^{i(\\bar{\\epsilon_0}+E)dt} e^{-i \\frac{1}{2} Z_0 dt} e^{i(\\bar{\\epsilon_0}-E) Z_1 dt}  e^{-i \\bar{\\mu} Z_2 dt} e^{-i \\bar{\\mu} Z_3 dt}\n",
    "\\\\\n",
    "& e^{i c_x X_0 X_1 dt} e^{i \\bar{\\mu}Z_1 Z_2 dt} e^{i \\bar{\\mu} Z_1 Z_3dt} e^{i x X_2 X_3 dt} e^{i y Y_2 Y_3 dt} e^{i z Z_2 Z_3 dt} \n",
    "\\\\\n",
    "& e^{ -i x Z_1 X_2 X_3 dt} e^{-i y Z_1 Y_2 Y_3 dt} e^{-i z  Z_1 Z_2 Z_3 dt}\n",
    "\\end{split}\n",
    "\\end{equation}\n",
    "\n",
    "Notice that all of three qubit gates involve $Z_1$.  I think we can apply controled-Z gates for free in which case there is no problem.  \n",
    "\n",
    "Furthermore the only non-local gate is $Z_1 Z_3$ which I am almost certain we can apply for free."
   ]
  },
  {
   "cell_type": "code",
   "execution_count": 770,
   "metadata": {},
   "outputs": [
    {
     "data": {
      "text/plain": [
       "7.771561172376096e-16"
      ]
     },
     "execution_count": 770,
     "metadata": {},
     "output_type": "execute_result"
    }
   ],
   "source": [
    "\n",
    "\n",
    "def Hrt2(cx,w,mu,T,Delta,V):\n",
    "    U=V\n",
    "    t=T\n",
    "    E = (4*mu+V)/4\n",
    "    u = (2*mu+V)/4\n",
    "    x = (T+Delta)/2\n",
    "    y = (T-Delta)/2\n",
    "    z = V/4\n",
    "    w0 = w+1\n",
    "    L = 3\n",
    "    L0=2\n",
    "    \n",
    "    ha = (w0/2+E/2)*I0(4)\n",
    "    \n",
    "    hb = -1/2*Z(0,4)\n",
    "    hc = (w0-E)/2*Z(1,4)\n",
    "    hd = -u/2 * Z(2,4) \n",
    "    he = -u/2 * (Z(3,4))\n",
    "    \n",
    "    hf = cx*Mdot([X(0,4),X(1,4)])\n",
    "    hg = u/2 * Mdot([Z(1,4),Z(2,4)])\n",
    "    hh = u/2 * Mdot([Z(1,4),Z(3,4)])\n",
    "    hi = x/2 * Mdot([X(2,4),X(3,4)])\n",
    "    hj = y/2 * Mdot([Y(2,4),Y(3,4)])\n",
    "    hk = z/2*Mdot([Z(2,4),Z(3,4)])\n",
    "    \n",
    "    hl = -x/2 * Mdot([Z(1,4),X(2,4),X(3,4)])\n",
    "    hm = -y/2 * Mdot([Z(1,4),Y(2,4),Y(3,4)])\n",
    "    hn = -z/2 * Mdot([Z(1,4),Z(2,4),Z(3,4)])\n",
    "\n",
    "    return ha + hb + hc + hd + he + hf + hg + hh + hi + hj + hk + hl + hm + hn\n",
    "\n",
    "\n",
    "\n",
    "\n",
    "np.amax(np.abs(Hrt(cx,w,mu,T,D,V) - Hrt2(cx,w,mu,T,D,V)))"
   ]
  },
  {
   "cell_type": "code",
   "execution_count": 771,
   "metadata": {},
   "outputs": [],
   "source": [
    "def UT(cx,w,mu,T,Delta,V,dt):\n",
    "    E = (4*mu+V)/8\n",
    "    u = (2*mu+V)/8\n",
    "    x = (T+Delta)/4\n",
    "    y = (T-Delta)/4\n",
    "    z = V/8\n",
    "    w0 = (w+1)/2\n",
    "    \n",
    "    Ub = np.cos(-1/2*dt)*I0(4) + 1j* np.sin(-1/2*dt)*Z(0,4)\n",
    "    Uc = np.cos((w0 - E)*dt)*I0(4) + 1j* np.sin((w0 - E)*dt)*Z(1,4)\n",
    "    Ud = np.cos(-u*dt)*I0(4) + 1j* np.sin(-u*dt)*Z(2,4)\n",
    "    Ue = np.cos(-u*dt)*I0(4) + 1j* np.sin(-u*dt)*Z(3,4)\n",
    "    \n",
    "    Uf = np.cos(cx*dt)*I0(4) + 1j* np.sin(cx*dt)*Mdot([X(0,4),X(1,4)])\n",
    "    Ug = np.cos(u*dt)*I0(4) + 1j* np.sin(u*dt)*Mdot([Z(1,4),Z(2,4)])\n",
    "    Uh = np.cos(u*dt)*I0(4) + 1j* np.sin(u*dt)*Mdot([Z(1,4),Z(3,4)])\n",
    "    Ui = np.cos(x*dt)*I0(4) + 1j* np.sin(x*dt)*Mdot([X(2,4),X(3,4)])\n",
    "    Uj = np.cos(y*dt)*I0(4) + 1j* np.sin(y*dt)*Mdot([Y(2,4),Y(3,4)])\n",
    "    Uk = np.cos(z*dt)*I0(4) + 1j* np.sin(z*dt)*Mdot([Z(2,4),Z(3,4)])\n",
    "    \n",
    "    Ul = np.cos(-x*dt)*I0(4) + 1j* np.sin(-x*dt)*Mdot([Z(1,4),X(2,4),X(3,4)])\n",
    "    Um = np.cos(-y*dt)*I0(4) + 1j* np.sin(-y*dt)*Mdot([Z(1,4),Y(2,4),Y(3,4)])\n",
    "    Un = np.cos(-z*dt)*I0(4) + 1j* np.sin(-z*dt)*Mdot([Z(1,4),Z(2,4),Z(3,4)])\n",
    "    \n",
    "    return np.exp(2*1j*(w0+E)*dt)*Mdot([Ub,Uc,Ud,Ue,Uf,Ug,Uh,Ui,Uj,Uk,Ul,Um,Un,Un,Um,Ul,Uk,Uj,Ui,Uh,Ug,Uf,Ue,Ud,Uc,Ub])"
   ]
  },
  {
   "cell_type": "code",
   "execution_count": 772,
   "metadata": {},
   "outputs": [
    {
     "data": {
      "text/plain": [
       "1.370856830073185e-06"
      ]
     },
     "execution_count": 772,
     "metadata": {},
     "output_type": "execute_result"
    }
   ],
   "source": [
    "dt = 0.01\n",
    "np.amax(np.abs(U(cx,w,mu,T,D,V,dt)-UT(cx,w,mu,T,D,V,dt/2)))"
   ]
  },
  {
   "cell_type": "code",
   "execution_count": 775,
   "metadata": {},
   "outputs": [
    {
     "name": "stdout",
     "output_type": "stream",
     "text": [
      "-10.0 (0.9960378320331265+0j)\n",
      "-9.9 (0.9958329767305693+0j)\n",
      "-9.8 (0.9961137891403534+0j)\n",
      "-9.7 (0.9968257539374127+0j)\n",
      "-9.6 (0.9977968174354102+0j)\n",
      "-9.5 (0.9987701508601842+0j)\n",
      "-9.4 (0.9994606797760138+0j)\n",
      "-9.3 (0.9996235763438404+0j)\n",
      "-9.2 (0.9991191536373161+0j)\n",
      "-9.1 (0.9979582398751731+0j)\n",
      "-9.0 (0.9963154333277674+0j)\n",
      "-8.9 (0.9945040993142182+0j)\n",
      "-8.8 (0.9929152752728921+0j)\n",
      "-8.7 (0.991931019740067+0j)\n",
      "-8.6 (0.9918292966722664+0j)\n",
      "-8.5 (0.992700668648443+0j)\n",
      "-8.4 (0.9943960057644311+0j)\n",
      "-8.3 (0.9965191313869864+0j)\n",
      "-8.2 (0.9984697810334155+0j)\n",
      "-8.1 (0.9995321525796765+0j)\n",
      "-8.0 (0.9989947721903428+0j)\n",
      "-7.9 (0.9962804286644542+0j)\n",
      "-7.8 (0.991062070284894+0j)\n",
      "-7.699999999999999 (0.9833424937763137+0j)\n",
      "-7.6 (0.9734820554035283+0j)\n",
      "-7.5 (0.962168221236439+0j)\n",
      "-7.4 (0.9503315909862153+0j)\n",
      "-7.3 (0.9390228659957908+0j)\n",
      "-7.199999999999999 (0.9292720997280175+0j)\n",
      "-7.1 (0.9219541349287738+0j)\n",
      "-7.0 (0.9176819978568416+0j)\n",
      "-6.9 (0.9167437959898175+0j)\n",
      "-6.8 (0.9190898129683064+0j)\n",
      "-6.699999999999999 (0.9243669822661297+0j)\n",
      "-6.6 (0.9319897719119189+0j)\n",
      "-6.5 (0.9412313458442105+0j)\n",
      "-6.4 (0.9513175448233736+0j)\n",
      "-6.3 (0.9615086860915026+0j)\n",
      "-6.199999999999999 (0.9711594778893871+0j)\n",
      "-6.1 (0.9797539326327127+0j)\n",
      "-6.0 (0.9869182835941089+0j)\n",
      "-5.8999999999999995 (0.9924190463653385+0j)\n",
      "-5.8 (0.9961546189862074+0j)\n",
      "-5.7 (0.9981471201942125+0j)\n",
      "-5.6 (0.998537296410341+0j)\n",
      "-5.5 (0.9975806743048649+0j)\n",
      "-5.3999999999999995 (0.9956393187644363+0j)\n",
      "-5.3 (0.9931619757545129+0j)\n",
      "-5.199999999999999 (0.990646807201487+0j)\n",
      "-5.1 (0.9885852512132142+0j)\n",
      "-5.0 (0.9873917509194834+0j)\n",
      "-4.8999999999999995 (0.9873304884569056+0j)\n",
      "-4.8 (0.9884548707306453+0j)\n",
      "-4.699999999999999 (0.9905766303941246+0j)\n",
      "-4.6 (0.9932780708277267+0j)\n",
      "-4.5 (0.9959733310815961+0j)\n",
      "-4.3999999999999995 (0.9980138856117544+0j)\n",
      "-4.3 (0.9988221001852595+0j)\n",
      "-4.199999999999999 (0.9980273060430314+0j)\n",
      "-4.1 (0.9955741428235729+0j)\n",
      "-4.0 (0.991774651911714+0j)\n",
      "-3.8999999999999995 (0.9872842258430558+0j)\n",
      "-3.8 (0.9829958926632509+0j)\n",
      "-3.6999999999999993 (0.9798649108518969+0j)\n",
      "-3.5999999999999996 (0.9786926351193214+0j)\n",
      "-3.5 (0.9799111916102721+0j)\n",
      "-3.3999999999999995 (0.9834153929074009+0j)\n",
      "-3.3 (0.988483665961139+0j)\n",
      "-3.1999999999999993 (0.9938156551702553+0j)\n",
      "-3.0999999999999996 (0.9976927893768603+0j)\n",
      "-3.0 (0.9982434269103679+0j)\n",
      "-2.8999999999999995 (0.9937712040587843+0j)\n",
      "-2.8 (0.9830888991578058+0j)\n",
      "-2.6999999999999993 (0.9657943899192496+0j)\n",
      "-2.5999999999999996 (0.9424320256730736+0j)\n",
      "-2.5 (0.9145013254646646+0j)\n",
      "-2.3999999999999995 (0.884302174849834+0j)\n",
      "-2.3 (0.854636464319333+0j)\n",
      "-2.1999999999999993 (0.8284142419764943+0j)\n",
      "-2.0999999999999996 (0.8082320786528387+0j)\n",
      "-2.0 (0.7959981504006105+0j)\n",
      "-1.9000000000000004 (0.7926707484074551+0j)\n",
      "-1.799999999999999 (0.7981557535142549+0j)\n",
      "-1.6999999999999993 (0.8113781343596588+0j)\n",
      "-1.5999999999999996 (0.8305088864647643+0j)\n",
      "-1.5 (0.8532989797184596+0j)\n",
      "-1.4000000000000004 (0.8774521189111404+0j)\n",
      "-1.299999999999999 (0.9009627031453169+0j)\n",
      "-1.1999999999999993 (0.9223555366558118+0j)\n",
      "-1.0999999999999996 (0.9407874731388894+0j)\n",
      "-1.0 (0.9560031587623795+0j)\n",
      "-0.9000000000000004 (0.9681703249156323+0j)\n",
      "-0.7999999999999989 (0.9776471844941563+0j)\n",
      "-0.6999999999999993 (0.9847491349925357+0j)\n",
      "-0.5999999999999996 (0.9895805511759266+0j)\n",
      "-0.5 (0.9919798957115052+0j)\n",
      "-0.3999999999999986 (0.9915963202256376+0j)\n",
      "-0.29999999999999893 (0.9880800278877029+0j)\n",
      "-0.1999999999999993 (0.9813352297903882+0j)\n",
      "-0.09999999999999964 (0.9717617141587437+0j)\n",
      "0.0 (0.9604050334128427+0j)\n",
      "0.10000000000000142 (0.9489487938711354+0j)\n",
      "0.20000000000000107 (0.9395139276941507+0j)\n",
      "0.3000000000000007 (0.9342733892887816+0j)\n",
      "0.40000000000000036 (0.9349375536565414+0j)\n",
      "0.5 (0.9422054159486817+0j)\n",
      "0.6000000000000014 (0.9552999713687851+0j)\n",
      "0.7000000000000011 (0.9717062206480692+0j)\n",
      "0.8000000000000007 (0.9872048837196569+0j)\n",
      "0.9000000000000004 (0.9962470974765856+0j)\n",
      "1.0 (0.9926529978150274+0j)\n",
      "1.1000000000000014 (0.9705515677945178+0j)\n",
      "1.200000000000001 (0.9254233148725267+0j)\n",
      "1.3000000000000007 (0.8550729565085136+0j)\n",
      "1.4000000000000004 (0.7603545657046858+0j)\n",
      "1.5 (0.6454994604205594+0j)\n",
      "1.6000000000000014 (0.5179542899291235+0j)\n",
      "1.700000000000001 (0.3877142989683508+0j)\n",
      "1.8000000000000007 (0.2662214196120867+0j)\n",
      "1.9000000000000004 (0.16497358164564715+0j)\n",
      "2.0 (0.09404633158144016+0j)\n",
      "2.1000000000000014 (0.06075003851092098+0j)\n",
      "2.200000000000001 (0.06863085601471763+0j)\n",
      "2.3000000000000007 (0.11697309045893095+0j)\n",
      "2.4000000000000004 (0.2008829925469479+0j)\n",
      "2.5 (0.3119424685962373+0j)\n",
      "2.6000000000000014 (0.4393315518814619+0j)\n",
      "2.700000000000001 (0.5712460760391151+0j)\n",
      "2.8000000000000007 (0.6963940844530839+0j)\n",
      "2.9000000000000004 (0.8053479702647776+0j)\n",
      "3.0 (0.8915595230726394+0j)\n",
      "3.1000000000000014 (0.9519058416853887+0j)\n",
      "3.200000000000001 (0.9867141211512165+0j)\n",
      "3.3000000000000007 (0.9992982722289093+0j)\n",
      "3.4000000000000004 (0.9951154798351282+0j)\n",
      "3.5 (0.9807037821032889+0j)\n",
      "3.6000000000000014 (0.9625846579505812+0j)\n",
      "3.700000000000001 (0.9463052627828943+0j)\n",
      "3.8000000000000007 (0.9357569964581143+0j)\n",
      "3.9000000000000004 (0.9328490394181483+0j)\n",
      "4.0 (0.9375489100092376+0j)\n",
      "4.100000000000001 (0.9482392850649767+0j)\n",
      "4.200000000000001 (0.9622920366303105+0j)\n",
      "4.300000000000001 (0.9767339880240672+0j)\n",
      "4.4 (0.9888770576883442+0j)\n",
      "4.5 (0.9968062949273516+0j)\n",
      "4.600000000000001 (0.999656884010451+0j)\n",
      "4.700000000000001 (0.9976570175525595+0j)\n",
      "4.800000000000001 (0.9919583980645504+0j)\n",
      "4.9 (0.9843118794756356+0j)\n",
      "5.0 (0.9766668037418587+0j)\n",
      "5.100000000000001 (0.9707766857115904+0j)\n",
      "5.200000000000001 (0.967882284277011+0j)\n",
      "5.300000000000001 (0.9685198730796832+0j)\n",
      "5.4 (0.9724735529924263+0j)\n",
      "5.5 (0.9788619983024478+0j)\n",
      "5.600000000000001 (0.986327469405724+0j)\n",
      "5.700000000000001 (0.9932817503220692+0j)\n",
      "5.800000000000001 (0.9981610099647246+0j)\n",
      "5.9 (0.9996482732981423+0j)\n",
      "6.0 (0.9968353006195939+0j)\n",
      "6.100000000000001 (0.9893113974909323+0j)\n",
      "6.199999999999999 (0.9771812678009555+0j)\n",
      "6.300000000000001 (0.9610246272602564+0j)\n",
      "6.400000000000002 (0.9418154861089154+0j)\n",
      "6.5 (0.9208189151267085+0j)\n",
      "6.600000000000001 (0.8994791564283543+0j)\n",
      "6.699999999999999 (0.8793073145516888+0j)\n",
      "6.800000000000001 (0.8617718274710101+0j)\n",
      "6.900000000000002 (0.8481921816891589+0j)\n",
      "7.0 (0.8396366258219681+0j)\n",
      "7.100000000000001 (0.8368275581230162+0j)\n",
      "7.199999999999999 (0.8400624786495252+0j)\n",
      "7.300000000000001 (0.8491620594879651+0j)\n",
      "7.400000000000002 (0.8634582017251251+0j)\n",
      "7.5 (0.8818327146814741+0j)\n",
      "7.600000000000001 (0.9028112451875303+0j)\n",
      "7.699999999999999 (0.9247081729767647+0j)\n",
      "7.800000000000001 (0.9458081714811706+0j)\n",
      "7.900000000000002 (0.9645613211424359+0j)\n",
      "8.0 (0.9797633117462163+0j)\n",
      "8.100000000000001 (0.9906920144652982+0j)\n",
      "8.2 (0.9971771150162516+0j)\n",
      "8.3 (0.9995898913055611+0j)\n",
      "8.400000000000002 (0.9987537475925414+0j)\n",
      "8.5 (0.9957901515684019+0j)\n",
      "8.600000000000001 (0.9919263081998533+0j)\n",
      "8.7 (0.9882977984343444+0j)\n",
      "8.8 (0.9857800197743415+0j)\n",
      "8.900000000000002 (0.984876393168579+0j)\n",
      "9.0 (0.9856801041729882+0j)\n",
      "9.100000000000001 (0.9879118965863795+0j)\n",
      "9.200000000000003 (0.9910220327341066+0j)\n",
      "9.3 (0.9943328826225011+0j)\n",
      "9.400000000000002 (0.9971919993677287+0j)\n",
      "9.5 (0.9991051840986744+0j)\n",
      "9.600000000000001 (0.9998248141682522+0j)\n",
      "9.700000000000003 (0.9993792024935353+0j)\n",
      "9.8 (0.9980416242076514+0j)\n",
      "9.900000000000002 (0.99625011900558+0j)\n"
     ]
    }
   ],
   "source": [
    "psiA = np.sqrt(0.2)*qi.Statevector.from_label('00-+').data ++np.sqrt(0.7)*qi.Statevector.from_label('00+-').data + np.sqrt(0.3)*qi.Statevector.from_label('00++').data\n",
    "psiA = psiA/np.sqrt(bkt(psiA,I0(4),psiA))\n",
    "\n",
    "wl = [wi*0.1-10 for wi in range(0,200)]\n",
    "\n",
    "t = 200.0\n",
    "t = 5\n",
    "dt = 0.1\n",
    "cx = 0.2\n",
    "Ns = 100\n",
    "pl = []\n",
    "for w in wl:\n",
    "    psiS = psiA\n",
    "    UTw = UT(cx,w,mu,T,D,V,dt/2)\n",
    "    for ti in range(0,int(t/dt)):\n",
    "        psiS = Mdot([UTw,psiS])\n",
    "    pw = bkt(psiS,Z(0,L0+2),psiS)\n",
    "    print(w,pw)\n",
    "\n",
    "    pl.append(pw)"
   ]
  },
  {
   "cell_type": "code",
   "execution_count": 776,
   "metadata": {},
   "outputs": [
    {
     "data": {
      "image/png": "[encoded data removed]",
      "text/plain": [
       "<Figure size 432x288 with 1 Axes>"
      ]
     },
     "metadata": {
      "needs_background": "light"
     },
     "output_type": "display_data"
    }
   ],
   "source": [
    "marker = [1 for i in e0]\n",
    "\n",
    "plt.plot(wl,pl)\n",
    "plt.scatter(e0,marker)\n",
    "plt.show()"
   ]
  },
  {
   "cell_type": "code",
   "execution_count": null,
   "metadata": {},
   "outputs": [],
   "source": []
  }
 ],
 "metadata": {
  "kernelspec": {
   "display_name": "Python [conda env:qiskit20_new]",
   "language": "python",
   "name": "conda-env-qiskit20_new-py"
  },
  "language_info": {
   "codemirror_mode": {
    "name": "ipython",
    "version": 3
   },
   "file_extension": ".py",
   "mimetype": "text/x-python",
   "name": "python",
   "nbconvert_exporter": "python",
   "pygments_lexer": "ipython3",
   "version": "3.8.5"
  }
 },
 "nbformat": 4,
 "nbformat_minor": 4
}
