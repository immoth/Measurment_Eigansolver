{
 "cells": [
  {
   "cell_type": "code",
   "execution_count": 1,
   "metadata": {},
   "outputs": [],
   "source": [
    "from qiskit import IBMQ, QuantumRegister, QuantumCircuit, ClassicalRegister\n",
    "from qiskit.compiler import transpile, assemble\n",
    "#from qiskit.result import Result\n",
    "#from qiskit.pulse import DriveChannel, ControlChannel, MeasureChannel, AcquireChannel, Play, Schedule\n",
    "#from qiskit.ignis.mitigation import complete_meas_cal, CompleteMeasFitter\n",
    "#from qiskit.ignis.characterization import t1_circuits, T1Fitter\n",
    "from qiskit.visualization import plot_histogram\n",
    "#style = SchedStyle(figsize=(5, 5))\n",
    "from qiskit import Aer\n",
    "\n",
    "import numpy as np\n",
    "import matplotlib.pyplot as plt\n",
    "plt.style.use('dark_background')\n",
    "plt.rcParams['figure.figsize'] = [5, 5]\n"
   ]
  },
  {
   "cell_type": "code",
   "execution_count": 2,
   "metadata": {},
   "outputs": [
    {
     "name": "stderr",
     "output_type": "stream",
     "text": [
      "C:\\Users\\jsten\\Anaconda3\\envs\\qiskit20_new\\lib\\site-packages\\qiskit\\providers\\ibmq\\ibmqfactory.py:192: UserWarning: Timestamps in IBMQ backend properties, jobs, and job results are all now in local time instead of UTC.\n",
      "  warnings.warn('Timestamps in IBMQ backend properties, jobs, and job results '\n"
     ]
    }
   ],
   "source": [
    "IBMQ.load_account()\n",
    "provider = IBMQ.get_provider(hub='ibm-q-university', group='uni-pittsburgh', project='main')"
   ]
  },
  {
   "cell_type": "code",
   "execution_count": 129,
   "metadata": {},
   "outputs": [],
   "source": [
    "backend = provider.get_backend('ibmq_casablanca')\n",
    "#backend = Aer.get_backend(\"qasm_simulator\")"
   ]
  },
  {
   "cell_type": "code",
   "execution_count": 134,
   "metadata": {},
   "outputs": [
    {
     "data": {
      "text/html": [
       "<pre style=\"word-wrap: normal;white-space: pre;background: #fff0;line-height: 1.1;font-family: &quot;Courier New&quot;,Courier,monospace\">          ┌───┐┌───┐┌─┐\n",
       "q_0: ─|0>─┤ H ├┤ H ├┤M├\n",
       "          └───┘└───┘└╥┘\n",
       "q_1: ─|0>────────────╫─\n",
       "                     ║ \n",
       "c: 4/════════════════╩═\n",
       "                     1 </pre>"
      ],
      "text/plain": [
       "          ┌───┐┌───┐┌─┐\n",
       "q_0: ─|0>─┤ H ├┤ H ├┤M├\n",
       "          └───┘└───┘└╥┘\n",
       "q_1: ─|0>────────────╫─\n",
       "                     ║ \n",
       "c: 4/════════════════╩═\n",
       "                     1 "
      ]
     },
     "execution_count": 134,
     "metadata": {},
     "output_type": "execute_result"
    }
   ],
   "source": [
    "qr = QuantumRegister(2, name='q')\n",
    "cr = ClassicalRegister(4, name='c')\n",
    "qc = QuantumCircuit(qr, cr)\n",
    "\n",
    "qc.reset([0,1])\n",
    "qc.h(0)\n",
    "#qc.measure(0,0)\n",
    "qc.h(0)\n",
    "qc.measure(0,1)\n",
    "\n",
    "\n",
    "\n",
    "qc.draw()"
   ]
  },
  {
   "cell_type": "code",
   "execution_count": 135,
   "metadata": {},
   "outputs": [],
   "source": [
    "qobj = assemble(transpile(qc, backend=backend), backend=backend, shots=2056)"
   ]
  },
  {
   "cell_type": "code",
   "execution_count": 136,
   "metadata": {},
   "outputs": [
    {
     "name": "stdout",
     "output_type": "stream",
     "text": [
      "602feab061d55e386120d091\n",
      "Job Status: job has successfully run\n"
     ]
    }
   ],
   "source": [
    "# RUN the job\n",
    "job = backend.run(qobj)\n",
    "print(job.job_id())\n",
    "from qiskit.tools.monitor import job_monitor\n",
    "job_monitor(job)"
   ]
  },
  {
   "cell_type": "code",
   "execution_count": 137,
   "metadata": {},
   "outputs": [
    {
     "data": {
      "image/png": "[encoded data removed]",
      "text/plain": [
       "<Figure size 504x360 with 1 Axes>"
      ]
     },
     "execution_count": 137,
     "metadata": {},
     "output_type": "execute_result"
    }
   ],
   "source": [
    "plot_histogram(job.result().get_counts())"
   ]
  },
  {
   "cell_type": "code",
   "execution_count": null,
   "metadata": {},
   "outputs": [],
   "source": []
  },
  {
   "cell_type": "code",
   "execution_count": null,
   "metadata": {},
   "outputs": [],
   "source": []
  }
 ],
 "metadata": {
  "kernelspec": {
   "display_name": "Python [conda env:qiskit20_new]",
   "language": "python",
   "name": "conda-env-qiskit20_new-py"
  },
  "language_info": {
   "codemirror_mode": {
    "name": "ipython",
    "version": 3
   },
   "file_extension": ".py",
   "mimetype": "text/x-python",
   "name": "python",
   "nbconvert_exporter": "python",
   "pygments_lexer": "ipython3",
   "version": "3.8.5"
  }
 },
 "nbformat": 4,
 "nbformat_minor": 4
}
